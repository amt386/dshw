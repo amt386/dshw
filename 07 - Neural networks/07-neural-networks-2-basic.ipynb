{
 "cells": [
  {
   "cell_type": "markdown",
   "metadata": {},
   "source": [
    "# Neural networks - Homework (basic)"
   ]
  },
  {
   "cell_type": "code",
   "execution_count": null,
   "metadata": {},
   "outputs": [],
   "source": [
    "#!pip install pymorphy2\n",
    "#!pip install -U pymorphy2-dicts-ru\n",
    "#!pip install pymystem3\n",
    "#!pip install gensim"
   ]
  },
  {
   "cell_type": "code",
   "execution_count": 1,
   "metadata": {},
   "outputs": [
    {
     "name": "stderr",
     "output_type": "stream",
     "text": [
      "Using TensorFlow backend.\n"
     ]
    },
    {
     "name": "stdout",
     "output_type": "stream",
     "text": [
      "TensorFlow version: 1.13.1\n",
      "Keras version: 2.2.4\n"
     ]
    }
   ],
   "source": [
    "import gc\n",
    "import itertools\n",
    "import warnings\n",
    "\n",
    "import matplotlib.pyplot as plt\n",
    "import numpy as np\n",
    "import pandas as pd\n",
    "import seaborn as sns\n",
    "\n",
    "from category_encoders.ordinal import OrdinalEncoder\n",
    "from category_encoders.one_hot import OneHotEncoder\n",
    "\n",
    "import keras\n",
    "from keras.callbacks import Callback, History\n",
    "from keras.models import Model, load_model, Sequential\n",
    "from keras.layers import Dense, Dropout\n",
    "from keras.optimizers import Adam\n",
    "from keras.regularizers import l2\n",
    "from keras.utils import np_utils, to_categorical\n",
    "\n",
    "from sklearn.base import BaseEstimator, TransformerMixin\n",
    "from sklearn.model_selection import train_test_split, StratifiedKFold\n",
    "from sklearn.pipeline import Pipeline\n",
    "from sklearn.preprocessing import StandardScaler\n",
    "\n",
    "import tensorflow as tf\n",
    "\n",
    "from IPython.display import display\n",
    "\n",
    "warnings.filterwarnings(\"ignore\")\n",
    "sns.set()\n",
    "%matplotlib inline\n",
    "\n",
    "print('TensorFlow version:', tf.__version__)\n",
    "print('Keras version:', keras.__version__)"
   ]
  },
  {
   "cell_type": "code",
   "execution_count": 237,
   "metadata": {},
   "outputs": [],
   "source": [
    "import nltk\n",
    "from nltk.corpus import stopwords\n",
    "from nltk.stem.snowball import EnglishStemmer\n",
    "from nltk.stem import WordNetLemmatizer\n",
    "from nltk.tokenize import RegexpTokenizer\n",
    "\n",
    "from keras.preprocessing import sequence\n",
    "from keras.models import Sequential\n",
    "from keras.layers import Dense, Dropout, Embedding, LSTM, Bidirectional, Flatten\n",
    "from keras.datasets import imdb\n",
    "\n",
    "from sklearn.preprocessing import LabelEncoder\n",
    "\n",
    "import string\n",
    "import pymorphy2\n",
    "from keras.preprocessing.text import one_hot\n",
    "from keras.preprocessing.sequence import pad_sequences"
   ]
  },
  {
   "cell_type": "markdown",
   "metadata": {},
   "source": [
    "# Writing utility code"
   ]
  },
  {
   "cell_type": "code",
   "execution_count": 126,
   "metadata": {},
   "outputs": [],
   "source": [
    "from matplotlib.ticker import MaxNLocator\n",
    "\n",
    "class TrainingHistory(keras.callbacks.Callback):\n",
    "    \"\"\"\n",
    "    Class to accumulate and plot metrics.\n",
    "    Can be used separately or as a Keras callback.\n",
    "    \"\"\"\n",
    "    def __init__(self, metric='acc', metric_name='Accuracy', report_num_epochs=10):\n",
    "        super().__init__()\n",
    "        self.metric = metric\n",
    "        self.metric_name = metric_name\n",
    "        self.train_loss_list = []\n",
    "        self.train_metric_list = []\n",
    "        self.test_loss_list = []\n",
    "        self.test_metric_list = []\n",
    "        self.report_num_epochs = report_num_epochs\n",
    "\n",
    "    def on_epoch_end(self, batch, logs={}):\n",
    "        self.train_loss_list.append(logs.get('loss'))\n",
    "        self.test_loss_list.append(logs.get('val_loss'))\n",
    "        self.train_metric_list.append(logs.get(self.metric))\n",
    "        self.test_metric_list.append(logs.get('val_%s' % self.metric))\n",
    "        \n",
    "        epoch_num = len(self.train_loss_list)\n",
    "        if epoch_num % self.report_num_epochs == 0:\n",
    "            print('Epoch {0}: loss={1} {2}={3:.4f}'.format(epoch_num, self.train_loss_list[-1],\n",
    "                                                           self.metric, self.train_metric_list[-1]))\n",
    "    \n",
    "    def print_scores(self):\n",
    "        \n",
    "        print('{0}: train={1:.4f}, test={2:.4f}'.format(self.metric_name,\n",
    "                                                        self.train_metric_list[-1],\n",
    "                                                        self.test_metric_list[-1]))\n",
    "        print('Loss: train={0:.4f}, test={1:.4f}'.format(self.train_loss_list[-1],\n",
    "                                                         self.test_loss_list[-1]))\n",
    "            \n",
    "    def plot(self):\n",
    "        f, axes = plt.subplots(nrows=1, ncols=2, figsize=(12, 4))\n",
    "        plt.subplots_adjust(wspace=0.2, hspace=0.2)\n",
    "\n",
    "        axes[0].set_title('Loss', fontsize=16, fontweight='bold')\n",
    "        axes[1].set_title(self.metric_name, fontsize=16, fontweight='bold')\n",
    "\n",
    "        axes[0].plot(self.train_loss_list, label='Train set')\n",
    "        axes[0].plot(self.test_loss_list, label='Test set')\n",
    "\n",
    "        axes[1].plot(self.train_metric_list, label='Train set')\n",
    "        axes[1].plot(self.test_metric_list, label='Test set')\n",
    "\n",
    "        axes[0].set_xlabel(\"Epoch\")\n",
    "        axes[1].set_xlabel(\"Epoch\")\n",
    "\n",
    "        # Only integer epoch labels\n",
    "        axes[0].xaxis.set_major_locator(MaxNLocator(integer=True))\n",
    "        axes[1].xaxis.set_major_locator(MaxNLocator(integer=True))\n",
    "\n",
    "        axes[0].legend()\n",
    "        axes[1].legend()"
   ]
  },
  {
   "cell_type": "code",
   "execution_count": 157,
   "metadata": {},
   "outputs": [],
   "source": [
    "def show_class_histogram(df, col='Class'):\n",
    "    total = float(len(df))\n",
    "    ax = sns.countplot(x=col, data=df)\n",
    "\n",
    "    for p in ax.patches:\n",
    "        height = p.get_height() # bar integer value (not pixels here!)\n",
    "        height = 0 if np.isnan(height) else height\n",
    "        ax.text(\n",
    "            p.get_x() + p.get_width()/2, height, \n",
    "            '{0} ({1:1.2f}%)'.format(height, height * 100/total), ha=\"center\"\n",
    "        )\n",
    "    ax.set_title('Distribution of target class', fontsize=14, fontweight='bold')\n",
    "    plt.show()"
   ]
  },
  {
   "cell_type": "markdown",
   "metadata": {},
   "source": [
    "# Loading data and text processing"
   ]
  },
  {
   "cell_type": "code",
   "execution_count": 231,
   "metadata": {},
   "outputs": [],
   "source": [
    "DATA_PATH = 'D://datasets//feedback//feedback.csv'\n",
    "PROCESSED_PATH = 'D://datasets//feedback//feedback-processed.csv'"
   ]
  },
  {
   "cell_type": "code",
   "execution_count": 37,
   "metadata": {},
   "outputs": [],
   "source": [
    "def load_data():\n",
    "    ratings = []\n",
    "    texts = []\n",
    "\n",
    "    with open(DATA_PATH, 'r', encoding='utf-8') as f:\n",
    "        next(f)    # skip header line\n",
    "        for line in f.readlines():\n",
    "            splitted = line.split(',')\n",
    "            rating = int(float(splitted[0]))\n",
    "            text = ','.join(splitted[4:]).strip('\"')\n",
    "            ratings.append(rating)\n",
    "            texts.append(text)\n",
    "            \n",
    "    return pd.DataFrame({'text': texts, 'rating': ratings})        "
   ]
  },
  {
   "cell_type": "code",
   "execution_count": 38,
   "metadata": {},
   "outputs": [],
   "source": [
    "df = load_data()"
   ]
  },
  {
   "cell_type": "code",
   "execution_count": 226,
   "metadata": {},
   "outputs": [],
   "source": [
    "stop_chars = str.maketrans({key: ' ' for key in string.punctuation})\n",
    "stop_words = stopwords.words('russian')\n",
    "tokenizer = RegexpTokenizer(r\"(?u)\\b[^\\W\\d][^\\W\\d]+\\b\")\n",
    "morph = pymorphy2.MorphAnalyzer()\n",
    "mystem = Mystem()\n",
    "mapping = False\n",
    "\n",
    "def preprocessor(text):\n",
    "    return text.lower()\n",
    "\n",
    "\n",
    "def lemmed_words_pymorphy(doc):\n",
    "    \"\"\" Split to tokens, ignore stopwords, apply lemmatization. \"\"\"\n",
    "    return [\n",
    "        morph.parse(word)[0].normal_form\n",
    "        for word in tokenizer.tokenize(doc)\n",
    "        if len(word) > 1 and word not in stop_words\n",
    "    ]\n",
    "\n",
    "\n",
    "def lemmed_words_mystem(doc):\n",
    "    \n",
    "    doc = ' '.join([\n",
    "        word\n",
    "        for word in tokenizer.tokenize(doc)\n",
    "        if len(word) > 1 and word not in stop_words\n",
    "    ])\n",
    "    \n",
    "    processed = mystem.analyze(doc)\n",
    "    lemmas = []\n",
    "    for w in processed:\n",
    "        try:\n",
    "            lemma = w[\"analysis\"][0][\"lex\"].lower().strip()\n",
    "            pos = w[\"analysis\"][0][\"gr\"].split(',')[0]\n",
    "            pos = pos.split('=')[0].strip()\n",
    "            if mapping:\n",
    "                if pos in mapping:\n",
    "                    pos = mapping[pos]   # part of speech tag mapping\n",
    "                else:\n",
    "                    pos = 'X'  # if tag is missing from the mapping\n",
    "            lemmas.append(lemma + '_' + pos)\n",
    "        except (KeyError, IndexError):\n",
    "            continue\n",
    "\n",
    "    return lemmas"
   ]
  },
  {
   "cell_type": "markdown",
   "metadata": {},
   "source": [
    "Some examples for the lemmer:"
   ]
  },
  {
   "cell_type": "code",
   "execution_count": 229,
   "metadata": {},
   "outputs": [
    {
     "name": "stdout",
     "output_type": "stream",
     "text": [
      "['волчий_A', 'вой_S']\n",
      "['волк_S', 'выть_V']\n",
      "['холодно_ADV']\n"
     ]
    }
   ],
   "source": [
    "print(lemmed_words_mystem('волчий вой'))\n",
    "print(lemmed_words_mystem('волком вой'))\n",
    "print(lemmed_words_mystem('холодно'))"
   ]
  },
  {
   "cell_type": "markdown",
   "metadata": {},
   "source": [
    "Apply lemmatization and point-of-speech tagging (takes a long time) and save intermediate results to disk:"
   ]
  },
  {
   "cell_type": "code",
   "execution_count": 230,
   "metadata": {},
   "outputs": [],
   "source": [
    "df['words'] = df.text.map(lambda x: lemmed_words_mystem(preprocessor(x)))\n",
    "df['words_count'] = df['words'].map(len)\n",
    "df['words_concat'] = df['words'].apply(' '.join)\n",
    "\n",
    "df.to_csv(PROCESSED_PATH, sep=',', encoding='utf-8')"
   ]
  },
  {
   "cell_type": "markdown",
   "metadata": {},
   "source": [
    "# EDA and further processing"
   ]
  },
  {
   "cell_type": "markdown",
   "metadata": {},
   "source": [
    "Read processed data from disk to avoid expensive processing:"
   ]
  },
  {
   "cell_type": "code",
   "execution_count": 235,
   "metadata": {},
   "outputs": [],
   "source": [
    "#df2 = pd.read_csv(PROCESSED_PATH)"
   ]
  },
  {
   "cell_type": "markdown",
   "metadata": {},
   "source": [
    "Word count distribution (useful to determine max text length for padding):"
   ]
  },
  {
   "cell_type": "code",
   "execution_count": 249,
   "metadata": {},
   "outputs": [
    {
     "data": {
      "image/png": "[encoded data removed]",
      "text/plain": [
       "<Figure size 432x288 with 1 Axes>"
      ]
     },
     "metadata": {},
     "output_type": "display_data"
    }
   ],
   "source": [
    "sns.distplot(df['words_count'], hist=True, kde=False, \n",
    "             bins=50, color = 'blue',\n",
    "             hist_kws={'edgecolor':'black'})\n",
    "plt.title('Word count distribution', fontsize=14, fontweight='bold')\n",
    "plt.show()"
   ]
  },
  {
   "cell_type": "markdown",
   "metadata": {},
   "source": [
    "Let's take a look at class balance:"
   ]
  },
  {
   "cell_type": "code",
   "execution_count": 261,
   "metadata": {},
   "outputs": [],
   "source": [
    "num_classes = df['rating'].nunique()"
   ]
  },
  {
   "cell_type": "code",
   "execution_count": 251,
   "metadata": {},
   "outputs": [
    {
     "data": {
      "image/png": "[encoded data removed]",
      "text/plain": [
       "<Figure size 432x288 with 1 Axes>"
      ]
     },
     "metadata": {},
     "output_type": "display_data"
    }
   ],
   "source": [
    "show_class_histogram(df, col='rating')"
   ]
  },
  {
   "cell_type": "markdown",
   "metadata": {},
   "source": [
    "Pretty bad, let's apply oversampling to compensate:"
   ]
  },
  {
   "cell_type": "code",
   "execution_count": 245,
   "metadata": {},
   "outputs": [],
   "source": [
    "def oversample(df, col='rating'):\n",
    "    max_size = df[col].value_counts().max()\n",
    "\n",
    "    dfs = [df]\n",
    "    for class_index, group in df.groupby(col):\n",
    "        dfs.append(group.sample(max_size-len(group), replace=True))\n",
    "    return pd.concat(dfs)"
   ]
  },
  {
   "cell_type": "code",
   "execution_count": 252,
   "metadata": {},
   "outputs": [],
   "source": [
    "df = oversample(df)"
   ]
  },
  {
   "cell_type": "code",
   "execution_count": 254,
   "metadata": {},
   "outputs": [
    {
     "data": {
      "image/png": "[encoded data removed]",
      "text/plain": [
       "<Figure size 432x288 with 1 Axes>"
      ]
     },
     "metadata": {},
     "output_type": "display_data"
    }
   ],
   "source": [
    "show_class_histogram(df, col='rating')"
   ]
  },
  {
   "cell_type": "markdown",
   "metadata": {},
   "source": [
    "Much better."
   ]
  },
  {
   "cell_type": "markdown",
   "metadata": {},
   "source": [
    "# RNN with randomly initialized embeddings\n",
    "\n",
    "(based on example provided here: https://github.com/keras-team/keras/blob/master/examples/imdb_bidirectional_lstm.py)"
   ]
  },
  {
   "cell_type": "code",
   "execution_count": null,
   "metadata": {},
   "outputs": [],
   "source": [
    "MAX_LENGTH = 50      # max text length in word, selected according to word count distribution plot\n",
    "MAX_FEATURES = 300   # embedding dimension, chosen to match dimension of\n",
    "                     # RusVectores embedding for \"fair\" comparison\n",
    "VOCAB_SIZE = 10000"
   ]
  },
  {
   "cell_type": "markdown",
   "metadata": {},
   "source": [
    "Apply integer encoding and pad sequences:"
   ]
  },
  {
   "cell_type": "code",
   "execution_count": 307,
   "metadata": {},
   "outputs": [],
   "source": [
    "encoded_docs = [one_hot(d, VOCAB_SIZE) for d in df['words_concat']]\n",
    "padded_docs = pad_sequences(encoded_docs, maxlen=MAX_LENGTH, padding='post')"
   ]
  },
  {
   "cell_type": "markdown",
   "metadata": {},
   "source": [
    "Split into train/test set:"
   ]
  },
  {
   "cell_type": "code",
   "execution_count": 308,
   "metadata": {},
   "outputs": [],
   "source": [
    "target = df['rating']\n",
    "\n",
    "X_train, X_test, y_train, y_test = train_test_split(\n",
    "    padded_docs, target,  random_state=42, stratify=target,\n",
    ")"
   ]
  },
  {
   "cell_type": "markdown",
   "metadata": {},
   "source": [
    "Apply one-hot encoding to target class:"
   ]
  },
  {
   "cell_type": "code",
   "execution_count": 309,
   "metadata": {},
   "outputs": [],
   "source": [
    "encoder = LabelEncoder()\n",
    "encoder.fit(y_train)\n",
    "\n",
    "y_train_onehot = np_utils.to_categorical(encoder.transform(y_train))\n",
    "y_test_onehot = np_utils.to_categorical(encoder.transform(y_test))"
   ]
  },
  {
   "cell_type": "markdown",
   "metadata": {},
   "source": [
    "Training the model:"
   ]
  },
  {
   "cell_type": "code",
   "execution_count": 313,
   "metadata": {},
   "outputs": [],
   "source": [
    "from keras import backend as K; K.clear_session()\n",
    "tf.reset_default_graph()\n",
    "\n",
    "adam = keras.optimizers.Adam()\n",
    "\n",
    "model = Sequential()\n",
    "model.add(Embedding(VOCAB_SIZE, MAX_FEATURES, input_length=MAX_LENGTH))\n",
    "model.add(Bidirectional(LSTM(10)))\n",
    "model.add(Dropout(0.5))\n",
    "model.add(Dense(num_classes, activation='softmax'))\n",
    "model.compile(loss='categorical_crossentropy', metrics=['categorical_accuracy'], optimizer=adam)\n",
    "\n",
    "history = TrainingHistory(metric='categorical_accuracy', metric_name='Accuracy',\n",
    "                          report_num_epochs=1)"
   ]
  },
  {
   "cell_type": "code",
   "execution_count": 314,
   "metadata": {},
   "outputs": [
    {
     "name": "stdout",
     "output_type": "stream",
     "text": [
      "Epoch 1: loss=1.160891230553619 categorical_accuracy=0.5151\n",
      "Epoch 2: loss=0.6404819536384496 categorical_accuracy=0.7633\n",
      "Epoch 3: loss=0.42115006712453307 categorical_accuracy=0.8522\n",
      "Epoch 4: loss=0.2986998910944538 categorical_accuracy=0.8985\n",
      "Epoch 5: loss=0.23592983446586502 categorical_accuracy=0.9224\n",
      "Epoch 6: loss=0.18328403990258527 categorical_accuracy=0.9408\n",
      "Epoch 7: loss=0.14651722680423224 categorical_accuracy=0.9529\n",
      "Epoch 8: loss=0.1231272842461783 categorical_accuracy=0.9606\n",
      "Epoch 9: loss=0.109359547246412 categorical_accuracy=0.9654\n",
      "Epoch 10: loss=0.09363687586815593 categorical_accuracy=0.9691\n",
      "Accuracy: train=0.9691, test=0.9331\n",
      "Loss: train=0.0936, test=0.2776\n"
     ]
    },
    {
     "data": {
      "image/png": "[encoded data removed]",
      "text/plain": [
       "<Figure size 864x288 with 2 Axes>"
      ]
     },
     "metadata": {},
     "output_type": "display_data"
    }
   ],
   "source": [
    "model.fit(\n",
    "    X_train, y_train_onehot, epochs=len(history.train_loss_list) + 10, batch_size=batch_size, verbose=0,\n",
    "    validation_data=(X_test, y_test_onehot),\n",
    "    callbacks=[history], initial_epoch=len(history.train_loss_list)\n",
    ")\n",
    "\n",
    "history.print_scores()\n",
    "history.plot()\n",
    "plt.show()"
   ]
  },
  {
   "cell_type": "markdown",
   "metadata": {},
   "source": [
    "# FastText\n",
    "\n",
    "(based on example provided here https://github.com/keras-team/keras/blob/master/examples/imdb_fasttext.py)"
   ]
  },
  {
   "cell_type": "code",
   "execution_count": 317,
   "metadata": {},
   "outputs": [
    {
     "name": "stdout",
     "output_type": "stream",
     "text": [
      "Loading data...\n",
      "40747 train sequences\n",
      "13583 test sequences\n",
      "Average train sequence length: 62\n",
      "Average test sequence length: 62\n",
      "Adding 2-gram features\n",
      "Average train sequence length: 123\n",
      "Average test sequence length: 123\n",
      "Pad sequences (samples x time)\n",
      "x_train shape: (40747, 50)\n",
      "x_test shape: (13583, 50)\n",
      "Build model...\n"
     ]
    }
   ],
   "source": [
    "from keras.preprocessing import sequence\n",
    "from keras.models import Sequential\n",
    "from keras.layers import Dense\n",
    "from keras.layers import Embedding\n",
    "from keras.layers import GlobalAveragePooling1D\n",
    "\n",
    "\n",
    "def create_ngram_set(input_list, ngram_value=2):\n",
    "    \"\"\"\n",
    "    Extract a set of n-grams from a list of integers.\n",
    "    >>> create_ngram_set([1, 4, 9, 4, 1, 4], ngram_value=2)\n",
    "    {(4, 9), (4, 1), (1, 4), (9, 4)}\n",
    "    >>> create_ngram_set([1, 4, 9, 4, 1, 4], ngram_value=3)\n",
    "    [(1, 4, 9), (4, 9, 4), (9, 4, 1), (4, 1, 4)]\n",
    "    \"\"\"\n",
    "    return set(zip(*[input_list[i:] for i in range(ngram_value)]))\n",
    "\n",
    "\n",
    "def add_ngram(sequences, token_indice, ngram_range=2):\n",
    "    \"\"\"\n",
    "    Augment the input list of list (sequences) by appending n-grams values.\n",
    "    Example: adding bi-gram\n",
    "    >>> sequences = [[1, 3, 4, 5], [1, 3, 7, 9, 2]]\n",
    "    >>> token_indice = {(1, 3): 1337, (9, 2): 42, (4, 5): 2017}\n",
    "    >>> add_ngram(sequences, token_indice, ngram_range=2)\n",
    "    [[1, 3, 4, 5, 1337, 2017], [1, 3, 7, 9, 2, 1337, 42]]\n",
    "    Example: adding tri-gram\n",
    "    >>> sequences = [[1, 3, 4, 5], [1, 3, 7, 9, 2]]\n",
    "    >>> token_indice = {(1, 3): 1337, (9, 2): 42, (4, 5): 2017, (7, 9, 2): 2018}\n",
    "    >>> add_ngram(sequences, token_indice, ngram_range=3)\n",
    "    [[1, 3, 4, 5, 1337, 2017], [1, 3, 7, 9, 2, 1337, 42, 2018]]\n",
    "    \"\"\"\n",
    "    new_sequences = []\n",
    "    for input_list in sequences:\n",
    "        new_list = input_list[:]\n",
    "        for ngram_value in range(2, ngram_range + 1):\n",
    "            for i in range(len(new_list) - ngram_value + 1):\n",
    "                ngram = tuple(new_list[i:i + ngram_value])\n",
    "                if ngram in token_indice:\n",
    "                    new_list.append(token_indice[ngram])\n",
    "        new_sequences.append(new_list)\n",
    "\n",
    "    return new_sequences\n",
    "\n",
    "# Set parameters:\n",
    "ngram_range = 2    # add bi-grams features\n",
    "max_features = 10000\n",
    "maxlen = 50\n",
    "batch_size = 32\n",
    "embedding_dims = 300\n",
    "\n",
    "print('Loading data...')\n",
    "\n",
    "x_train, x_test, y_train, y_test = train_test_split(\n",
    "    encoded_docs, target,  random_state=42, #stratify=target,\n",
    ")\n",
    "encoder = LabelEncoder()\n",
    "encoder.fit(y_train)\n",
    "\n",
    "y_train_onehot = np_utils.to_categorical(encoder.transform(y_train))\n",
    "y_test_onehot = np_utils.to_categorical(encoder.transform(y_test))\n",
    "\n",
    "\n",
    "print(len(x_train), 'train sequences')\n",
    "print(len(x_test), 'test sequences')\n",
    "print('Average train sequence length: {}'.format(\n",
    "    np.mean(list(map(len, x_train)), dtype=int)))\n",
    "print('Average test sequence length: {}'.format(\n",
    "    np.mean(list(map(len, x_test)), dtype=int)))\n",
    "\n",
    "if ngram_range > 1:\n",
    "    print('Adding {}-gram features'.format(ngram_range))\n",
    "    # Create set of unique n-gram from the training set.\n",
    "    ngram_set = set()\n",
    "    for input_list in x_train:\n",
    "        for i in range(2, ngram_range + 1):\n",
    "            set_of_ngram = create_ngram_set(input_list, ngram_value=i)\n",
    "            ngram_set.update(set_of_ngram)\n",
    "\n",
    "    # Dictionary mapping n-gram token to a unique integer.\n",
    "    # Integer values are greater than max_features in order\n",
    "    # to avoid collision with existing features.\n",
    "    start_index = max_features + 1\n",
    "    token_indice = {v: k + start_index for k, v in enumerate(ngram_set)}\n",
    "    indice_token = {token_indice[k]: k for k in token_indice}\n",
    "\n",
    "    # max_features is the highest integer that could be found in the dataset.\n",
    "    max_features = np.max(list(indice_token.keys())) + 1\n",
    "\n",
    "    # Augmenting x_train and x_test with n-grams features\n",
    "    x_train = add_ngram(x_train, token_indice, ngram_range)\n",
    "    x_test = add_ngram(x_test, token_indice, ngram_range)\n",
    "    print('Average train sequence length: {}'.format(\n",
    "        np.mean(list(map(len, x_train)), dtype=int)))\n",
    "    print('Average test sequence length: {}'.format(\n",
    "        np.mean(list(map(len, x_test)), dtype=int)))\n",
    "\n",
    "print('Pad sequences (samples x time)')\n",
    "x_train = sequence.pad_sequences(x_train, maxlen=maxlen)\n",
    "x_test = sequence.pad_sequences(x_test, maxlen=maxlen)\n",
    "print('x_train shape:', x_train.shape)\n",
    "print('x_test shape:', x_test.shape)\n",
    "\n",
    "print('Build model...')\n",
    "model = Sequential()\n",
    "\n",
    "# we start off with an efficient embedding layer which maps\n",
    "# our vocab indices into embedding_dims dimensions\n",
    "model.add(Embedding(max_features,\n",
    "                    embedding_dims,\n",
    "                    input_length=maxlen))\n",
    "model.add(GlobalAveragePooling1D())     # average the embeddings of all words in the document\n",
    "model.add(Dense(num_classes, activation='softmax'))\n",
    "model.compile(loss='categorical_crossentropy', metrics=['categorical_accuracy'], optimizer=adam)\n",
    "\n",
    "history = TrainingHistory(metric='categorical_accuracy', metric_name='Accuracy',\n",
    "                          report_num_epochs=1)"
   ]
  },
  {
   "cell_type": "code",
   "execution_count": 318,
   "metadata": {},
   "outputs": [
    {
     "name": "stdout",
     "output_type": "stream",
     "text": [
      "Epoch 1: loss=0.6476772704656792 categorical_accuracy=0.7685\n",
      "Epoch 2: loss=0.14849981102854454 categorical_accuracy=0.9584\n",
      "Epoch 3: loss=0.06372728099387845 categorical_accuracy=0.9840\n",
      "Epoch 4: loss=0.03201188073896107 categorical_accuracy=0.9924\n",
      "Epoch 5: loss=0.018139462697412 categorical_accuracy=0.9955\n",
      "Epoch 6: loss=0.011866483524275828 categorical_accuracy=0.9970\n",
      "Epoch 7: loss=0.008228905253554195 categorical_accuracy=0.9978\n",
      "Epoch 8: loss=0.006506397726416206 categorical_accuracy=0.9981\n",
      "Epoch 9: loss=0.005438153105554199 categorical_accuracy=0.9986\n",
      "Epoch 10: loss=0.004796977408846789 categorical_accuracy=0.9985\n",
      "Accuracy: train=0.9985, test=0.9433\n",
      "Loss: train=0.0048, test=0.3189\n"
     ]
    },
    {
     "data": {
      "image/png": "[encoded data removed]",
      "text/plain": [
       "<Figure size 864x288 with 2 Axes>"
      ]
     },
     "metadata": {},
     "output_type": "display_data"
    }
   ],
   "source": [
    "epochs = 10\n",
    "\n",
    "model.fit(\n",
    "    x_train, y_train_onehot, epochs=len(history.train_loss_list) + epochs, batch_size=batch_size, verbose=0,\n",
    "    validation_data=(x_test, y_test_onehot),\n",
    "    callbacks=[history], initial_epoch=len(history.train_loss_list)\n",
    ")\n",
    "\n",
    "history.print_scores()\n",
    "history.plot()\n",
    "plt.show()"
   ]
  },
  {
   "cell_type": "markdown",
   "metadata": {},
   "source": [
    "\n",
    "# Word2vec (frozen embeddings)\n",
    "\n",
    "NN architecture is identical to that one from part three."
   ]
  },
  {
   "cell_type": "code",
   "execution_count": null,
   "metadata": {},
   "outputs": [],
   "source": [
    "import gensim\n",
    "\n",
    "EMBEDDINGS_FILE = 'file://D://models//ruscorpora_mystem_cbow_300_2_2015.bin.gz'\n",
    "wv = gensim.models.KeyedVectors.load_word2vec_format(EMBEDDINGS_FILE, binary=True).wv"
   ]
  },
  {
   "cell_type": "code",
   "execution_count": 286,
   "metadata": {},
   "outputs": [],
   "source": [
    "def word_list_to_index(array):\n",
    "    idx_list = []\n",
    "    for word in array:\n",
    "        try:\n",
    "            idx = model.wv.vocab[word].index\n",
    "            idx_list.append(idx)\n",
    "        except KeyError:\n",
    "            pass\n",
    "        \n",
    "    return idx_list\n",
    "    \n",
    "df['words_idx'] = df['words'].apply(word_list_to_index)"
   ]
  },
  {
   "cell_type": "code",
   "execution_count": 288,
   "metadata": {},
   "outputs": [],
   "source": [
    "MAX_LENGTH = 50      # selected according to word count distribution plot\n",
    "\n",
    "encoded_docs = df['words_idx']\n",
    "padded_docs = pad_sequences(encoded_docs, maxlen=MAX_LENGTH, padding='post')"
   ]
  },
  {
   "cell_type": "code",
   "execution_count": 299,
   "metadata": {},
   "outputs": [],
   "source": [
    "target = df['rating']\n",
    "\n",
    "X_train, X_test, y_train, y_test = train_test_split(\n",
    "    padded_docs, target,  random_state=42, stratify=target,\n",
    ")\n",
    "\n",
    "encoder = LabelEncoder()\n",
    "encoder.fit(y_train)\n",
    "\n",
    "y_train_onehot = np_utils.to_categorical(encoder.transform(y_train))\n",
    "y_test_onehot = np_utils.to_categorical(encoder.transform(y_test))"
   ]
  },
  {
   "cell_type": "code",
   "execution_count": 301,
   "metadata": {},
   "outputs": [],
   "source": [
    "from keras import backend as K; K.clear_session()\n",
    "tf.reset_default_graph()\n",
    "\n",
    "vocab_size, max_features = wv.vectors.shape\n",
    "\n",
    "adam = keras.optimizers.Adam()\n",
    "\n",
    "model = Sequential()\n",
    "model.add(Embedding(vocab_size, max_features, input_length=MAX_LENGTH, weights=[wv.vectors], trainable=False))\n",
    "model.add(Bidirectional(LSTM(10)))\n",
    "model.add(Dropout(0.5))\n",
    "model.add(Dense(num_classes, activation='softmax'))\n",
    "model.compile(loss='categorical_crossentropy', metrics=['categorical_accuracy'], optimizer=adam)\n",
    "\n",
    "history = TrainingHistory(metric='categorical_accuracy', metric_name='Accuracy',\n",
    "                          report_num_epochs=1)"
   ]
  },
  {
   "cell_type": "code",
   "execution_count": 306,
   "metadata": {},
   "outputs": [
    {
     "name": "stdout",
     "output_type": "stream",
     "text": [
      "Epoch 52: loss=0.43877746488845143 categorical_accuracy=0.8298\n",
      "Epoch 53: loss=0.4200801779992022 categorical_accuracy=0.8377\n",
      "Epoch 54: loss=0.4340976621866677 categorical_accuracy=0.8321\n",
      "Epoch 55: loss=0.4104517247402311 categorical_accuracy=0.8407\n",
      "Epoch 56: loss=0.4170155855653669 categorical_accuracy=0.8373\n",
      "Epoch 57: loss=0.4078198111754744 categorical_accuracy=0.8432\n",
      "Epoch 58: loss=0.4153985688730957 categorical_accuracy=0.8392\n",
      "Epoch 59: loss=0.4065449260175045 categorical_accuracy=0.8431\n",
      "Epoch 60: loss=0.3993255810234173 categorical_accuracy=0.8445\n",
      "Epoch 61: loss=0.3883811413157857 categorical_accuracy=0.8490\n",
      "Epoch 62: loss=0.40282627164638796 categorical_accuracy=0.8448\n",
      "Epoch 63: loss=0.41010456351319186 categorical_accuracy=0.8429\n",
      "Epoch 64: loss=0.3820596097872957 categorical_accuracy=0.8514\n",
      "Epoch 65: loss=0.3923128347566959 categorical_accuracy=0.8514\n",
      "Epoch 66: loss=0.3806380522960001 categorical_accuracy=0.8537\n",
      "Epoch 67: loss=0.38904450761059806 categorical_accuracy=0.8482\n",
      "Epoch 68: loss=0.38044093505038473 categorical_accuracy=0.8541\n",
      "Epoch 69: loss=0.3745719080248133 categorical_accuracy=0.8561\n",
      "Epoch 70: loss=0.3677379840791897 categorical_accuracy=0.8591\n",
      "Epoch 71: loss=0.37151825291383667 categorical_accuracy=0.8574\n",
      "Accuracy: train=0.8574, test=0.8452\n",
      "Loss: train=0.3715, test=0.4699\n"
     ]
    },
    {
     "data": {
      "image/png": "[encoded data removed]",
      "text/plain": [
       "<Figure size 864x288 with 2 Axes>"
      ]
     },
     "metadata": {},
     "output_type": "display_data"
    }
   ],
   "source": [
    "model.fit(\n",
    "    X_train, y_train_onehot, epochs=len(history.train_loss_list) + 20, batch_size=batch_size, verbose=0,\n",
    "    validation_data=(X_test, y_test_onehot),\n",
    "    callbacks=[history], initial_epoch=len(history.train_loss_list)\n",
    ")\n",
    "\n",
    "history.print_scores()\n",
    "history.plot()\n",
    "plt.show()"
   ]
  },
  {
   "cell_type": "markdown",
   "metadata": {},
   "source": [
    "# Conclusion\n",
    "\n",
    "Fasttext with randomly-initialized embeddings:\n",
    "- Best model, **highest accuracy on the test set** (but the metrics stale quite quickly during training)\n",
    "- Severe overfitting that is hard to manage. Train set accuracy is unreliable.\n",
    "\n",
    "RNN with trainable randomly-initialized embeddings:\n",
    "- Test set accuracy very close to that one of FastText (but chances are it can be improved even more).\n",
    "- Moderate overfitting\n",
    "\n",
    "RNN with frozen Word2vec embeddings:\n",
    "- Freezing embeddings is the worst thing to do here (probably due because of specifics of the corpus). Worst accuracy of three, yet the numbers are comparable and there's some chance for improvement when using more complicated network.\n",
    "- Very fast to train (small number of trainable parameters)\n",
    "- Almost no overfitting."
   ]
  },
  {
   "cell_type": "code",
   "execution_count": null,
   "metadata": {},
   "outputs": [],
   "source": []
  }
 ],
 "metadata": {
  "kernelspec": {
   "display_name": "Python 3",
   "language": "python",
   "name": "python3"
  },
  "language_info": {
   "codemirror_mode": {
    "name": "ipython",
    "version": 3
   },
   "file_extension": ".py",
   "mimetype": "text/x-python",
   "name": "python",
   "nbconvert_exporter": "python",
   "pygments_lexer": "ipython3",
   "version": "3.6.3"
  },
  "toc": {
   "base_numbering": 1,
   "nav_menu": {},
   "number_sections": true,
   "sideBar": true,
   "skip_h1_title": false,
   "title_cell": "Table of Contents",
   "title_sidebar": "Contents",
   "toc_cell": false,
   "toc_position": {},
   "toc_section_display": true,
   "toc_window_display": true
  }
 },
 "nbformat": 4,
 "nbformat_minor": 2
}
