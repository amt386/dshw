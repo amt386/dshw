{
 "cells": [
  {
   "cell_type": "markdown",
   "metadata": {},
   "source": [
    "# Neural networks - Homework (minimal)"
   ]
  },
  {
   "cell_type": "code",
   "execution_count": 1,
   "metadata": {},
   "outputs": [
    {
     "name": "stderr",
     "output_type": "stream",
     "text": [
      "Using TensorFlow backend.\n"
     ]
    },
    {
     "name": "stdout",
     "output_type": "stream",
     "text": [
      "TensorFlow version: 1.13.1\n",
      "Keras version: 2.2.4\n"
     ]
    }
   ],
   "source": [
    "import gc\n",
    "import itertools\n",
    "import warnings\n",
    "\n",
    "import matplotlib.pyplot as plt\n",
    "import numpy as np\n",
    "import pandas as pd\n",
    "import seaborn as sns\n",
    "\n",
    "from category_encoders.ordinal import OrdinalEncoder\n",
    "from category_encoders.one_hot import OneHotEncoder\n",
    "\n",
    "import keras\n",
    "from keras.callbacks import Callback, History\n",
    "from keras.models import Model, load_model, Sequential\n",
    "from keras.layers import Dense, Dropout\n",
    "from keras.optimizers import Adam\n",
    "from keras.regularizers import l2\n",
    "from keras.utils import np_utils, to_categorical\n",
    "\n",
    "from sklearn.base import BaseEstimator, TransformerMixin\n",
    "from sklearn.model_selection import train_test_split, StratifiedKFold\n",
    "from sklearn.pipeline import Pipeline\n",
    "from sklearn.preprocessing import StandardScaler\n",
    "\n",
    "import tensorflow as tf\n",
    "\n",
    "from IPython.display import display\n",
    "\n",
    "warnings.filterwarnings(\"ignore\")\n",
    "sns.set()\n",
    "%matplotlib inline\n",
    "\n",
    "print('TensorFlow version:', tf.__version__)\n",
    "print('Keras version:', keras.__version__)"
   ]
  },
  {
   "cell_type": "markdown",
   "metadata": {},
   "source": [
    "# Writing utility code"
   ]
  },
  {
   "cell_type": "code",
   "execution_count": 2,
   "metadata": {},
   "outputs": [],
   "source": [
    "class FrequencyEncoder(BaseEstimator, TransformerMixin):\n",
    "    def __init__(self, cols, verbose=True):\n",
    "        self.cols = cols\n",
    "        self.mappings = {}\n",
    "        self.verbose = verbose\n",
    "\n",
    "    def fit(self, X, y=None):\n",
    "        for col in self.cols:\n",
    "            if self.verbose:\n",
    "                print('Fitting frequency-encoded column: %s' % col)\n",
    "            self.mappings[col] = X[col].value_counts().to_dict()\n",
    "        return self\n",
    "\n",
    "    def transform(self, X):\n",
    "        for col in self.cols:\n",
    "            if self.verbose:\n",
    "                print('Transforming frequency-encoded column: %s' % col)\n",
    "            X[col] = X[col].map(lambda x: self.mappings[col].get(x, np.nan)).astype('float32')\n",
    "        return X\n",
    "    \n",
    "def test_frequency_encoder():\n",
    "    df1 = pd.DataFrame({\n",
    "        'a': ['a', 'b', 'b', 'c', 'c', 'c', np.nan],\n",
    "    })\n",
    "    df2 = pd.DataFrame({\n",
    "        'a': ['a', 'd'],\n",
    "    })\n",
    "    encoder = FrequencyEncoder(cols=['a'], verbose=False)\n",
    "    result1 = encoder.fit_transform(df1)\n",
    "    result2 = encoder.transform(df2)\n",
    "    expected1 = pd.DataFrame({\n",
    "        'a': [1.0, 2.0, 2.0, 3.0, 3.0, 3.0, np.nan],\n",
    "    }, dtype='float32')\n",
    "    expected2 = pd.DataFrame({\n",
    "        'a': [1.0, np.nan],\n",
    "    }, dtype='float32')\n",
    "\n",
    "    assert result1.equals(expected1)\n",
    "    assert result2.equals(expected2)\n",
    "\n",
    "test_frequency_encoder()"
   ]
  },
  {
   "cell_type": "code",
   "execution_count": 3,
   "metadata": {},
   "outputs": [],
   "source": [
    "from matplotlib.ticker import MaxNLocator\n",
    "\n",
    "class TrainingHistory(keras.callbacks.Callback):\n",
    "    \"\"\"\n",
    "    Class to accumulate and plot metrics.\n",
    "    Can be used separately or as a Keras callback.\n",
    "    \"\"\"\n",
    "    def __init__(self, metric='acc', metric_name='Accuracy'):\n",
    "        super().__init__()\n",
    "        self.metric = metric\n",
    "        self.metric_name = metric_name\n",
    "        self.train_loss_list = []\n",
    "        self.train_metric_list = []\n",
    "        self.test_loss_list = []\n",
    "        self.test_metric_list = []\n",
    "\n",
    "    def on_epoch_end(self, batch, logs={}):\n",
    "        self.train_loss_list.append(logs.get('loss'))\n",
    "        self.test_loss_list.append(logs.get('val_loss'))\n",
    "        self.train_metric_list.append(logs.get(self.metric))\n",
    "        self.test_metric_list.append(logs.get('val_%s' % self.metric))\n",
    "        \n",
    "        epoch_num = len(self.train_loss_list)\n",
    "        if epoch_num % 10 == 0:\n",
    "            print('Epoch {0}: loss={1} {2}={3:.4f}'.format(epoch_num, self.train_loss_list[-1],\n",
    "                                                           self.metric, self.train_metric_list[-1]))\n",
    "    \n",
    "    def print_scores(self):\n",
    "        \n",
    "        print('{0}: train={1:.4f}, test={2:.4f}'.format(self.metric_name,\n",
    "                                                        self.train_metric_list[-1],\n",
    "                                                        self.test_metric_list[-1]))\n",
    "        print('Loss: train={0:.4f}, test={1:.4f}'.format(self.train_loss_list[-1],\n",
    "                                                         self.test_loss_list[-1]))\n",
    "            \n",
    "    def plot(self):\n",
    "        f, axes = plt.subplots(nrows=1, ncols=2, figsize=(12, 4))\n",
    "        plt.subplots_adjust(wspace=0.2, hspace=0.2)\n",
    "\n",
    "        axes[0].set_title('Loss', fontsize=16, fontweight='bold')\n",
    "        axes[1].set_title(self.metric_name, fontsize=16, fontweight='bold')\n",
    "\n",
    "        axes[0].plot(self.train_loss_list, label='Train set')\n",
    "        axes[0].plot(self.test_loss_list, label='Test set')\n",
    "\n",
    "        axes[1].plot(self.train_metric_list, label='Train set')\n",
    "        axes[1].plot(self.test_metric_list, label='Test set')\n",
    "\n",
    "        axes[0].set_xlabel(\"Epoch\")\n",
    "        axes[1].set_xlabel(\"Epoch\")\n",
    "\n",
    "        # Only integer epoch labels\n",
    "        axes[0].xaxis.set_major_locator(MaxNLocator(integer=True))\n",
    "        axes[1].xaxis.set_major_locator(MaxNLocator(integer=True))\n",
    "\n",
    "        axes[0].legend()\n",
    "        axes[1].legend()"
   ]
  },
  {
   "cell_type": "code",
   "execution_count": 4,
   "metadata": {},
   "outputs": [],
   "source": [
    "def show_class_histogram(df, col='Class'):\n",
    "    total = float(len(df))\n",
    "    ax = sns.countplot(x=col, data=df)\n",
    "\n",
    "    for p in ax.patches:\n",
    "        height = p.get_height() # bar integer value (not pixels here!)\n",
    "        height = 0 if np.isnan(height) else height\n",
    "        ax.text(\n",
    "            p.get_x() + p.get_width()/2, height, \n",
    "            '{0} ({1:1.2f}%)'.format(height, height * 100/total), ha=\"center\"\n",
    "        )\n",
    "    ax.set_title('Distribution of target class', fontsize=14, fontweight='bold')\n",
    "    plt.show()"
   ]
  },
  {
   "cell_type": "markdown",
   "metadata": {},
   "source": [
    "# Titanic dataset (binary classification)"
   ]
  },
  {
   "cell_type": "markdown",
   "metadata": {},
   "source": [
    "## Preprocessing the data\n",
    "\n",
    "Things done here:\n",
    "- imputing missing values\n",
    "- encoding categorical variables (one-hot for low-cardinality, frequency encoding for high-cardinality)"
   ]
  },
  {
   "cell_type": "code",
   "execution_count": 5,
   "metadata": {},
   "outputs": [
    {
     "name": "stdout",
     "output_type": "stream",
     "text": [
      "Fitting frequency-encoded column: ticket\n",
      "Transforming frequency-encoded column: ticket\n"
     ]
    }
   ],
   "source": [
    "df = pd.read_csv('titanic3.csv') #, na_values='?', true_values='t', false_values='f')\n",
    "df.dropna(axis=0, how='all', inplace=True)\n",
    "\n",
    "df['sex'] = df['sex'].map({'male': 1, 'female': 0}).astype('float64')\n",
    "df['age'] = df['age'].fillna(df['age'].mean())\n",
    "df['fare'] = df['fare'].fillna(df['fare'].mean())\n",
    "df['cabin_count'] = df['cabin'].map(lambda x: 0 if pd.isnull(x) else len(x.split(' ')))\n",
    "df['cabin_class'] = df['cabin'].map(lambda x: '0' if pd.isnull(x) else x[0])\n",
    "df['embarked'] = df['embarked'].fillna(df['embarked'].mode()[0])\n",
    "df.drop(['cabin'], inplace=True, axis=1)\n",
    "df.drop(['name', 'home.dest'], inplace=True, axis=1) # irrelevant\n",
    "df.drop(['boat', 'body'], inplace=True, axis=1)   # too much missing?\n",
    "\n",
    "pipe = Pipeline(steps=[\n",
    "    ('onehot', OneHotEncoder(cols=['pclass', 'embarked', 'cabin_class'], handle_unknown='ignore', use_cat_names=True)),\n",
    "    ('freq', FrequencyEncoder(cols=['ticket'])),\n",
    "])\n",
    "\n",
    "df = pipe.fit_transform(df)"
   ]
  },
  {
   "cell_type": "markdown",
   "metadata": {},
   "source": [
    "No resampling required."
   ]
  },
  {
   "cell_type": "code",
   "execution_count": 6,
   "metadata": {},
   "outputs": [
    {
     "data": {
      "image/png": "[encoded data removed]",
      "text/plain": [
       "<Figure size 432x288 with 1 Axes>"
      ]
     },
     "metadata": {},
     "output_type": "display_data"
    }
   ],
   "source": [
    "show_class_histogram(df, col='survived')"
   ]
  },
  {
   "cell_type": "markdown",
   "metadata": {},
   "source": [
    "Split into train/test set:"
   ]
  },
  {
   "cell_type": "code",
   "execution_count": 7,
   "metadata": {},
   "outputs": [],
   "source": [
    "target = df['survived']\n",
    "X_train, X_test, y_train, y_test = train_test_split(\n",
    "    df.drop('survived', axis=1), target, stratify=target, random_state=42\n",
    ")\n",
    "scaler = StandardScaler()\n",
    "\n",
    "X_train = scaler.fit_transform(X_train)\n",
    "X_test = scaler.transform(X_test)"
   ]
  },
  {
   "cell_type": "code",
   "execution_count": 8,
   "metadata": {},
   "outputs": [
    {
     "name": "stdout",
     "output_type": "stream",
     "text": [
      "X shape: (981, 22)\n",
      "Y shape: (981,)\n"
     ]
    }
   ],
   "source": [
    "print('X shape:', X_train.shape)\n",
    "print('Y shape:', y_train.shape)"
   ]
  },
  {
   "cell_type": "markdown",
   "metadata": {},
   "source": [
    "## TensorFlow model (logistic regression) for Titanic"
   ]
  },
  {
   "cell_type": "code",
   "execution_count": 9,
   "metadata": {},
   "outputs": [],
   "source": [
    "batch_size = 20\n",
    "learning_rate = 0.01\n",
    "alpha = 0.3    # regularization\n",
    "n_epochs = 50"
   ]
  },
  {
   "cell_type": "code",
   "execution_count": 10,
   "metadata": {},
   "outputs": [
    {
     "name": "stdout",
     "output_type": "stream",
     "text": [
      "WARNING:tensorflow:From c:\\users\\artem_panov\\appdata\\local\\programs\\python\\python36\\lib\\site-packages\\tensorflow\\python\\framework\\op_def_library.py:263: colocate_with (from tensorflow.python.framework.ops) is deprecated and will be removed in a future version.\n",
      "Instructions for updating:\n",
      "Colocations handled automatically by placer.\n"
     ]
    }
   ],
   "source": [
    "tf.reset_default_graph()\n",
    "\n",
    "num_examples = X_train.shape[0]\n",
    "num_input_neurons = X_train.shape[1]\n",
    "\n",
    "# Step 2: create placeholders for features and labels\n",
    "X = tf.placeholder(tf.float32, [batch_size, num_input_neurons], name='image') \n",
    "Y = tf.placeholder(tf.float32, [batch_size, 1], name='label')\n",
    "\n",
    "# Step 3: create weights and bias\n",
    "w = tf.get_variable(name='weights', shape=(num_input_neurons, 1), initializer=tf.random_normal_initializer())\n",
    "b = tf.get_variable(name='bias', shape=(1,), initializer=tf.zeros_initializer())\n",
    "\n",
    "# Step 4: build model\n",
    "logits = tf.matmul(X, w) + b \n",
    "\n",
    "# Step 5: define loss function\n",
    "entropy = tf.nn.sigmoid_cross_entropy_with_logits(logits=logits, labels=Y, name='loss')\n",
    "loss = tf.reduce_mean(entropy) + alpha * tf.nn.l2_loss(w)\n",
    "\n",
    "# Step 6: define training op\n",
    "optimizer = tf.train.AdamOptimizer(learning_rate).minimize(loss)\n",
    "\n",
    "# Step 7: calculate accuracy with test set\n",
    "preds = tf.nn.sigmoid(logits)\n",
    "correct_preds = tf.cast(tf.equal(tf.round(preds), Y), dtype=tf.float32)\n",
    "accuracy = tf.reduce_sum(tf.cast(correct_preds, tf.float32))\n",
    "\n",
    "\n",
    "def fit_epoch(X_data, y_data):\n",
    "    num_examples = X_data.shape[0]\n",
    "    n_batches = int(num_examples/batch_size)\n",
    "    \n",
    "    for j in range(n_batches):\n",
    "        X_batch = X_data[batch_size * j: batch_size * (j + 1)]\n",
    "        Y_batch = y_data[batch_size * j: batch_size * (j + 1)]\n",
    "        Y_batch = Y_batch.values.reshape(Y_batch.shape[0], 1)\n",
    "        sess.run([optimizer], {X: X_batch, Y:Y_batch})\n",
    "\n",
    "    \n",
    "def evaluate(X_data, y_data):\n",
    "    num_examples = X_data.shape[0]\n",
    "    n_batches = int(num_examples/batch_size)\n",
    "    \n",
    "    total_loss = 0\n",
    "    total_correct_preds = 0\n",
    "\n",
    "    for i in range(n_batches):\n",
    "        \n",
    "        X_batch = X_data[batch_size * i: batch_size * (i + 1)]\n",
    "        Y_batch = y_data[batch_size * i: batch_size * (i + 1)]\n",
    "        Y_batch = Y_batch.values.reshape(Y_batch.shape[0], 1)\n",
    "\n",
    "        loss_batch, accuracy_batch = sess.run([loss, accuracy], {X: X_batch, Y:Y_batch})\n",
    "        total_loss += loss_batch\n",
    "        total_correct_preds += accuracy_batch\n",
    "    \n",
    "    return total_loss, total_correct_preds/num_examples"
   ]
  },
  {
   "cell_type": "code",
   "execution_count": 11,
   "metadata": {},
   "outputs": [
    {
     "name": "stdout",
     "output_type": "stream",
     "text": [
      "Epoch 0: loss=104.44560861587524 accuracy=0.6890927624872579\n",
      "Epoch 10: loss=27.61319264769554 accuracy=0.7686034658511722\n",
      "Epoch 20: loss=27.612486600875854 accuracy=0.7726809378185525\n",
      "Epoch 30: loss=27.613747149705887 accuracy=0.7737003058103975\n",
      "Epoch 40: loss=27.61442205309868 accuracy=0.7737003058103975\n"
     ]
    }
   ],
   "source": [
    "with tf.Session() as sess:\n",
    "    sess.run(tf.global_variables_initializer())    \n",
    "    \n",
    "    history = TrainingHistory()\n",
    "\n",
    "    for i in range(n_epochs): \n",
    "        fit_epoch(X_train, y_train)\n",
    "\n",
    "        train_loss, train_accuracy = evaluate(X_train, y_train)\n",
    "        test_loss, test_accuracy = evaluate(X_test, y_test)\n",
    "\n",
    "        history.train_loss_list.append(train_loss)\n",
    "        history.train_metric_list.append(train_accuracy)\n",
    "        history.test_loss_list.append(test_loss)\n",
    "        history.test_metric_list.append(test_accuracy)\n",
    "\n",
    "        if i % 10 == 0:\n",
    "            print('Epoch {0}: loss={1} accuracy={2}'.format(i, train_loss, train_accuracy))"
   ]
  },
  {
   "cell_type": "code",
   "execution_count": 12,
   "metadata": {},
   "outputs": [
    {
     "name": "stdout",
     "output_type": "stream",
     "text": [
      "Accuracy: train=0.7737, test=0.7713\n",
      "Loss: train=27.6148, test=8.7312\n"
     ]
    },
    {
     "data": {
      "image/png": "[encoded data removed]",
      "text/plain": [
       "<Figure size 864x288 with 2 Axes>"
      ]
     },
     "metadata": {},
     "output_type": "display_data"
    }
   ],
   "source": [
    "history.print_scores()\n",
    "history.plot()\n",
    "plt.show()"
   ]
  },
  {
   "cell_type": "markdown",
   "metadata": {},
   "source": [
    "## Keras model (logistic regression) for Titanic"
   ]
  },
  {
   "cell_type": "code",
   "execution_count": 13,
   "metadata": {},
   "outputs": [],
   "source": []
  },
  {
   "cell_type": "code",
   "execution_count": 14,
   "metadata": {},
   "outputs": [
    {
     "name": "stdout",
     "output_type": "stream",
     "text": [
      "WARNING:tensorflow:From c:\\users\\artem_panov\\appdata\\local\\programs\\python\\python36\\lib\\site-packages\\tensorflow\\python\\ops\\math_ops.py:3066: to_int32 (from tensorflow.python.ops.math_ops) is deprecated and will be removed in a future version.\n",
      "Instructions for updating:\n",
      "Use tf.cast instead.\n",
      "Epoch 10: loss=0.5843544815962225 acc=0.7492\n",
      "Epoch 20: loss=0.5309615874934512 acc=0.7829\n",
      "Epoch 30: loss=0.5145005140829524 acc=0.7890\n",
      "Epoch 40: loss=0.50820195495657 acc=0.7982\n",
      "Epoch 50: loss=0.5050912076924433 acc=0.7982\n",
      "Epoch 60: loss=0.5033542274076883 acc=0.8002\n",
      "Epoch 70: loss=0.502282050103101 acc=0.8002\n",
      "Epoch 80: loss=0.5018171038664687 acc=0.8022\n",
      "Epoch 90: loss=0.501654351918097 acc=0.8012\n",
      "Epoch 100: loss=0.5015944012048655 acc=0.8022\n",
      "\n",
      "Train Score = 0.50\n",
      "Train Accuracy = 0.80\n",
      "\n",
      "Test Score = 0.49\n",
      "Test Accuracy = 0.79\n"
     ]
    }
   ],
   "source": [
    "from keras import backend as K; K.clear_session() # TODO: fix this\n",
    "tf.reset_default_graph()\n",
    "\n",
    "adam = keras.optimizers.Adam()\n",
    "\n",
    "model = Sequential()\n",
    "model.add(Dense(1, input_dim=X_train.shape[1], activation='sigmoid', activity_regularizer=l2(0.01)))\n",
    "model.compile(loss='binary_crossentropy', metrics=['accuracy'], optimizer=adam)\n",
    "\n",
    "history = TrainingHistory()\n",
    "\n",
    "model.fit(\n",
    "    X_train, y_train, epochs=100, batch_size=batch_size, verbose=0,\n",
    "    validation_data=(X_test, y_test),\n",
    "    callbacks=[history], initial_epoch=len(history.train_loss_list)\n",
    ")\n",
    "\n",
    "score, accuracy = model.evaluate(X_train, y_train, batch_size=batch_size, verbose=0)\n",
    "print(\"\\nTrain Score = {:.2f}\".format(score))\n",
    "print(\"Train Accuracy = {:.2f}\".format(accuracy))\n",
    "\n",
    "score, accuracy = model.evaluate(X_test, y_test, batch_size=batch_size, verbose=0)\n",
    "print(\"\\nTest Score = {:.2f}\".format(score))\n",
    "print(\"Test Accuracy = {:.2f}\".format(accuracy))"
   ]
  },
  {
   "cell_type": "code",
   "execution_count": 15,
   "metadata": {},
   "outputs": [
    {
     "name": "stdout",
     "output_type": "stream",
     "text": [
      "Accuracy: train=0.8022, test=0.7896\n",
      "Loss: train=0.5016, test=0.4897\n"
     ]
    },
    {
     "data": {
      "image/png": "[encoded data removed]",
      "text/plain": [
       "<Figure size 864x288 with 2 Axes>"
      ]
     },
     "metadata": {},
     "output_type": "display_data"
    }
   ],
   "source": [
    "history.print_scores()\n",
    "history.plot()\n",
    "plt.show()"
   ]
  },
  {
   "cell_type": "markdown",
   "metadata": {},
   "source": [
    "## Keras model (multilayer neural network) for Titanic\n",
    "\n",
    "Things to mention:\n",
    "- Excessive number of layers/neurons was chosen deliberately. However the test set score never get higher than 0.82 (which is still higher than 0.79 of simple logistic regression)\n",
    "- Dropout was used instead of L2 regularization to prevent overfitting (it works better giving higher score)\n",
    "- Early stopping was used to choose the number of iteration. Possible we could resort to lowering `learning_rate` instead.\n"
   ]
  },
  {
   "cell_type": "code",
   "execution_count": 16,
   "metadata": {},
   "outputs": [
    {
     "name": "stdout",
     "output_type": "stream",
     "text": [
      "WARNING:tensorflow:From c:\\users\\artem_panov\\appdata\\local\\programs\\python\\python36\\lib\\site-packages\\keras\\backend\\tensorflow_backend.py:3445: calling dropout (from tensorflow.python.ops.nn_ops) with keep_prob is deprecated and will be removed in a future version.\n",
      "Instructions for updating:\n",
      "Please use `rate` instead of `keep_prob`. Rate should be set to `rate = 1 - keep_prob`.\n",
      "Epoch 10: loss=0.5100974472776951 acc=0.7706\n",
      "Epoch 20: loss=0.4728837868732293 acc=0.8002\n",
      "Epoch 30: loss=0.44955443290881547 acc=0.8043\n",
      "Epoch 40: loss=0.4475880456323167 acc=0.8043\n",
      "Epoch 50: loss=0.42583448502874033 acc=0.8216\n",
      "Epoch 60: loss=0.42156033930307013 acc=0.8175\n",
      "Epoch 70: loss=0.4238371553163402 acc=0.8216\n",
      "\n",
      "Accuracy: train=0.8298, test=0.8140\n",
      "Loss: train=0.4208, test=0.4278\n"
     ]
    },
    {
     "data": {
      "image/png": "[encoded data removed]",
      "text/plain": [
       "<Figure size 864x288 with 2 Axes>"
      ]
     },
     "metadata": {},
     "output_type": "display_data"
    }
   ],
   "source": [
    "from keras import backend as K; K.clear_session() # TODO: fix this\n",
    "tf.reset_default_graph()\n",
    "\n",
    "adam = keras.optimizers.Adam()\n",
    "\n",
    "model = Sequential()\n",
    "model.add(Dense(80, input_dim=X_train.shape[1], activation='relu'))\n",
    "model.add(Dropout(0.5))\n",
    "model.add(Dense(80, activation='relu'))\n",
    "model.add(Dropout(0.5))\n",
    "model.add(Dense(80, activation='relu'))\n",
    "model.add(Dropout(0.5))\n",
    "model.add(Dense(1, activation='sigmoid'))\n",
    "model.compile(loss='binary_crossentropy', metrics=['accuracy'], optimizer=adam)\n",
    "\n",
    "history = TrainingHistory()\n",
    "\n",
    "model.fit(\n",
    "    X_train, y_train, epochs=75, batch_size=batch_size, verbose=0,\n",
    "    validation_data=(X_test, y_test),\n",
    "    callbacks=[history], initial_epoch=len(history.train_loss_list)\n",
    ")\n",
    "\n",
    "print()\n",
    "history.print_scores()\n",
    "history.plot()\n",
    "plt.show()"
   ]
  },
  {
   "cell_type": "markdown",
   "metadata": {},
   "source": [
    "# Thyroid dataset (multiclass classification with logistic regression)"
   ]
  },
  {
   "cell_type": "markdown",
   "metadata": {},
   "source": [
    "## Preprocessing"
   ]
  },
  {
   "cell_type": "code",
   "execution_count": 17,
   "metadata": {},
   "outputs": [
    {
     "data": {
      "text/html": [
       "<div>\n",
       "<style scoped>\n",
       "    .dataframe tbody tr th:only-of-type {\n",
       "        vertical-align: middle;\n",
       "    }\n",
       "\n",
       "    .dataframe tbody tr th {\n",
       "        vertical-align: top;\n",
       "    }\n",
       "\n",
       "    .dataframe thead th {\n",
       "        text-align: right;\n",
       "    }\n",
       "</style>\n",
       "<table border=\"1\" class=\"dataframe\">\n",
       "  <thead>\n",
       "    <tr style=\"text-align: right;\">\n",
       "      <th></th>\n",
       "      <th>age</th>\n",
       "      <th>sex</th>\n",
       "      <th>on_thyroxine</th>\n",
       "      <th>query_on_thyroxine</th>\n",
       "      <th>on_antithyroid_medication</th>\n",
       "      <th>sick</th>\n",
       "      <th>pregnant</th>\n",
       "      <th>thyroid_surgery</th>\n",
       "      <th>I131_treatment</th>\n",
       "      <th>query_hypothyroid</th>\n",
       "      <th>...</th>\n",
       "      <th>TSH</th>\n",
       "      <th>T3_measured</th>\n",
       "      <th>T3</th>\n",
       "      <th>TT4_measured</th>\n",
       "      <th>TT4</th>\n",
       "      <th>T4U_measured</th>\n",
       "      <th>T4U</th>\n",
       "      <th>FTI_measured</th>\n",
       "      <th>FTI</th>\n",
       "      <th>Class</th>\n",
       "    </tr>\n",
       "  </thead>\n",
       "  <tbody>\n",
       "    <tr>\n",
       "      <th>0</th>\n",
       "      <td>41.0</td>\n",
       "      <td>False</td>\n",
       "      <td>False</td>\n",
       "      <td>False</td>\n",
       "      <td>False</td>\n",
       "      <td>False</td>\n",
       "      <td>False</td>\n",
       "      <td>False</td>\n",
       "      <td>False</td>\n",
       "      <td>False</td>\n",
       "      <td>...</td>\n",
       "      <td>1.30</td>\n",
       "      <td>True</td>\n",
       "      <td>2.5</td>\n",
       "      <td>True</td>\n",
       "      <td>125.0</td>\n",
       "      <td>True</td>\n",
       "      <td>1.14</td>\n",
       "      <td>True</td>\n",
       "      <td>109.0</td>\n",
       "      <td>neg</td>\n",
       "    </tr>\n",
       "    <tr>\n",
       "      <th>1</th>\n",
       "      <td>23.0</td>\n",
       "      <td>False</td>\n",
       "      <td>False</td>\n",
       "      <td>False</td>\n",
       "      <td>False</td>\n",
       "      <td>False</td>\n",
       "      <td>False</td>\n",
       "      <td>False</td>\n",
       "      <td>False</td>\n",
       "      <td>False</td>\n",
       "      <td>...</td>\n",
       "      <td>4.10</td>\n",
       "      <td>True</td>\n",
       "      <td>2.0</td>\n",
       "      <td>True</td>\n",
       "      <td>102.0</td>\n",
       "      <td>False</td>\n",
       "      <td>NaN</td>\n",
       "      <td>False</td>\n",
       "      <td>NaN</td>\n",
       "      <td>neg</td>\n",
       "    </tr>\n",
       "    <tr>\n",
       "      <th>2</th>\n",
       "      <td>46.0</td>\n",
       "      <td>True</td>\n",
       "      <td>False</td>\n",
       "      <td>False</td>\n",
       "      <td>False</td>\n",
       "      <td>False</td>\n",
       "      <td>False</td>\n",
       "      <td>False</td>\n",
       "      <td>False</td>\n",
       "      <td>False</td>\n",
       "      <td>...</td>\n",
       "      <td>0.98</td>\n",
       "      <td>False</td>\n",
       "      <td>NaN</td>\n",
       "      <td>True</td>\n",
       "      <td>109.0</td>\n",
       "      <td>True</td>\n",
       "      <td>0.91</td>\n",
       "      <td>True</td>\n",
       "      <td>120.0</td>\n",
       "      <td>neg</td>\n",
       "    </tr>\n",
       "    <tr>\n",
       "      <th>3</th>\n",
       "      <td>70.0</td>\n",
       "      <td>False</td>\n",
       "      <td>True</td>\n",
       "      <td>False</td>\n",
       "      <td>False</td>\n",
       "      <td>False</td>\n",
       "      <td>False</td>\n",
       "      <td>False</td>\n",
       "      <td>False</td>\n",
       "      <td>False</td>\n",
       "      <td>...</td>\n",
       "      <td>0.16</td>\n",
       "      <td>True</td>\n",
       "      <td>1.9</td>\n",
       "      <td>True</td>\n",
       "      <td>175.0</td>\n",
       "      <td>False</td>\n",
       "      <td>NaN</td>\n",
       "      <td>False</td>\n",
       "      <td>NaN</td>\n",
       "      <td>neg</td>\n",
       "    </tr>\n",
       "    <tr>\n",
       "      <th>4</th>\n",
       "      <td>70.0</td>\n",
       "      <td>False</td>\n",
       "      <td>False</td>\n",
       "      <td>False</td>\n",
       "      <td>False</td>\n",
       "      <td>False</td>\n",
       "      <td>False</td>\n",
       "      <td>False</td>\n",
       "      <td>False</td>\n",
       "      <td>False</td>\n",
       "      <td>...</td>\n",
       "      <td>0.72</td>\n",
       "      <td>True</td>\n",
       "      <td>1.2</td>\n",
       "      <td>True</td>\n",
       "      <td>61.0</td>\n",
       "      <td>True</td>\n",
       "      <td>0.87</td>\n",
       "      <td>True</td>\n",
       "      <td>70.0</td>\n",
       "      <td>neg</td>\n",
       "    </tr>\n",
       "  </tbody>\n",
       "</table>\n",
       "<p>5 rows × 26 columns</p>\n",
       "</div>"
      ],
      "text/plain": [
       "    age    sex  on_thyroxine  query_on_thyroxine  on_antithyroid_medication  \\\n",
       "0  41.0  False         False               False                      False   \n",
       "1  23.0  False         False               False                      False   \n",
       "2  46.0   True         False               False                      False   \n",
       "3  70.0  False          True               False                      False   \n",
       "4  70.0  False         False               False                      False   \n",
       "\n",
       "    sick  pregnant  thyroid_surgery  I131_treatment  query_hypothyroid  ...  \\\n",
       "0  False     False            False           False              False  ...   \n",
       "1  False     False            False           False              False  ...   \n",
       "2  False     False            False           False              False  ...   \n",
       "3  False     False            False           False              False  ...   \n",
       "4  False     False            False           False              False  ...   \n",
       "\n",
       "    TSH  T3_measured   T3  TT4_measured    TT4  T4U_measured   T4U  \\\n",
       "0  1.30         True  2.5          True  125.0          True  1.14   \n",
       "1  4.10         True  2.0          True  102.0         False   NaN   \n",
       "2  0.98        False  NaN          True  109.0          True  0.91   \n",
       "3  0.16         True  1.9          True  175.0         False   NaN   \n",
       "4  0.72         True  1.2          True   61.0          True  0.87   \n",
       "\n",
       "   FTI_measured    FTI  Class  \n",
       "0          True  109.0    neg  \n",
       "1         False    NaN    neg  \n",
       "2          True  120.0    neg  \n",
       "3         False    NaN    neg  \n",
       "4          True   70.0    neg  \n",
       "\n",
       "[5 rows x 26 columns]"
      ]
     },
     "execution_count": 17,
     "metadata": {},
     "output_type": "execute_result"
    }
   ],
   "source": [
    "df = pd.read_csv('dataset_57_hypothyroid.csv', na_values='?', true_values='t', false_values='f')\n",
    "df.drop(['TBG_measured', 'TBG', 'referral_source'], inplace=True, axis=1)\n",
    "df.drop(['hypopituitary'], inplace=True, axis=1)\n",
    "df['Class'] = df['Class'].str.slice(0,3)\n",
    "df['sex'] = df['sex'].map({'M': True, 'F': False})\n",
    "\n",
    "df.head()"
   ]
  },
  {
   "cell_type": "code",
   "execution_count": 18,
   "metadata": {},
   "outputs": [
    {
     "name": "stdout",
     "output_type": "stream",
     "text": [
      "Inferred gender for 2 rows.\n",
      "Rows dropped because of missing gender: 148\n"
     ]
    }
   ],
   "source": [
    "df = df[df['Class'] != 'sec']\n",
    "df = df[df.age < 400]\n",
    "\n",
    "idx = df[df['sex'].isnull()][df['pregnant'] == True].index\n",
    "df.loc[idx, 'sex'] = False\n",
    "print('Inferred gender for %i rows.' % len(idx))\n",
    "\n",
    "orig_length = len(df)\n",
    "df = df.dropna(subset=['sex'])\n",
    "new_length = len(df)\n",
    "print('Rows dropped because of missing gender:', orig_length - new_length)"
   ]
  },
  {
   "cell_type": "code",
   "execution_count": 19,
   "metadata": {},
   "outputs": [
    {
     "name": "stdout",
     "output_type": "stream",
     "text": [
      "Rows with NaN: 0 (0%)\n"
     ]
    }
   ],
   "source": [
    "MEASUREMENT_COLS = (\n",
    "    ('TSH_measured', 'TSH'),\n",
    "    ('T3_measured', 'T3'),\n",
    "    ('TT4_measured', 'TT4'),\n",
    "    ('T4U_measured', 'T4U'),\n",
    "    ('FTI_measured', 'FTI'),\n",
    ")\n",
    "\n",
    "for _, col in MEASUREMENT_COLS:\n",
    "    for cls, mean in dict(df.groupby('Class')[col].agg('mean')).items():\n",
    "        idx = df[df[col].isnull()][df['Class'] == cls].index\n",
    "        df.loc[idx, col] = mean\n",
    "\n",
    "rows_with_nan = df.isnull().any(axis=1).sum()\n",
    "print('Rows with NaN: %i (%.0f%%)' % (rows_with_nan, rows_with_nan * 100 / len(df)))"
   ]
  },
  {
   "cell_type": "code",
   "execution_count": 20,
   "metadata": {},
   "outputs": [
    {
     "data": {
      "image/png": "[encoded data removed]",
      "text/plain": [
       "<Figure size 432x288 with 1 Axes>"
      ]
     },
     "metadata": {},
     "output_type": "display_data"
    }
   ],
   "source": [
    "show_class_histogram(df)"
   ]
  },
  {
   "cell_type": "code",
   "execution_count": 21,
   "metadata": {},
   "outputs": [],
   "source": [
    "target = df['Class']\n",
    "X_train, X_test, y_train, y_test = train_test_split(\n",
    "    df.drop('Class', axis=1), target, stratify=target, random_state=42\n",
    ")\n",
    "scaler = StandardScaler()\n",
    "\n",
    "X_train = scaler.fit_transform(X_train)\n",
    "X_test = scaler.transform(X_test)"
   ]
  },
  {
   "cell_type": "code",
   "execution_count": 22,
   "metadata": {},
   "outputs": [],
   "source": [
    "from sklearn.preprocessing import LabelEncoder\n",
    "encoder = LabelEncoder()\n",
    "encoder.fit(y_train)\n",
    "\n",
    "y_train_onehot = np_utils.to_categorical(encoder.transform(y_train))\n",
    "y_test_onehot = np_utils.to_categorical(encoder.transform(y_test))"
   ]
  },
  {
   "cell_type": "code",
   "execution_count": 23,
   "metadata": {},
   "outputs": [
    {
     "name": "stdout",
     "output_type": "stream",
     "text": [
      "X_train shape: (2715, 25)\n",
      "y_train_onehot shape: (2715, 3)\n",
      "X_test shape: (905, 25)\n",
      "y_test_onehot shape: (905, 3)\n",
      "Number of classes: 3\n"
     ]
    }
   ],
   "source": [
    "print('X_train shape:', X_train.shape)\n",
    "print('y_train_onehot shape:', y_train_onehot.shape)\n",
    "print('X_test shape:', X_test.shape)\n",
    "print('y_test_onehot shape:', y_test_onehot.shape)\n",
    "\n",
    "num_classes = y_train_onehot.shape[1]\n",
    "print('Number of classes:', num_classes)"
   ]
  },
  {
   "cell_type": "markdown",
   "metadata": {},
   "source": [
    "## TensorFlow model for Thyroid dataset\n",
    "\n",
    "For multiclass classification we use softmax output activation and corresponding loss function."
   ]
  },
  {
   "cell_type": "code",
   "execution_count": 24,
   "metadata": {},
   "outputs": [],
   "source": [
    "batch_size = 20\n",
    "learning_rate = 0.01\n",
    "alpha = 0.001    # regularization\n",
    "n_epochs = 100"
   ]
  },
  {
   "cell_type": "code",
   "execution_count": 25,
   "metadata": {},
   "outputs": [],
   "source": [
    "tf.reset_default_graph()\n",
    "\n",
    "num_examples = X_train.shape[0]\n",
    "num_input_neurons = X_train.shape[1]\n",
    "\n",
    "# Step 2: create placeholders for features and labels\n",
    "X = tf.placeholder(tf.float32, [batch_size, num_input_neurons], name='image') \n",
    "Y = tf.placeholder(tf.float32, [batch_size, num_classes], name='label')\n",
    "\n",
    "# Step 3: create weights and bias\n",
    "w = tf.get_variable(name='weights', shape=(num_input_neurons, num_classes), initializer=tf.random_normal_initializer())\n",
    "b = tf.get_variable(name='bias', shape=(1, num_classes), initializer=tf.zeros_initializer())\n",
    "\n",
    "# Step 4: build model\n",
    "logits = tf.matmul(X, w) + b \n",
    "\n",
    "# Step 5: define loss function\n",
    "entropy = tf.nn.softmax_cross_entropy_with_logits_v2(logits=logits, labels=Y, name='loss')\n",
    "loss = tf.reduce_mean(entropy) + alpha * tf.nn.l2_loss(w)\n",
    "\n",
    "# Step 6: define training op\n",
    "optimizer = tf.train.AdamOptimizer(learning_rate).minimize(loss)\n",
    "\n",
    "# Step 7: calculate accuracy with test set\n",
    "preds = tf.nn.softmax(logits)\n",
    "correct_preds = tf.equal(tf.argmax(preds, 1), tf.argmax(Y, 1))\n",
    "accuracy = tf.reduce_sum(tf.cast(correct_preds, tf.float32))\n",
    "\n",
    "\n",
    "def fit_epoch(X_data, y_data):\n",
    "    num_examples = X_data.shape[0]\n",
    "    n_batches = int(num_examples/batch_size)\n",
    "    \n",
    "    for j in range(n_batches):\n",
    "        X_batch = X_data[batch_size * j: batch_size * (j + 1)]\n",
    "        Y_batch = y_data[batch_size * j: batch_size * (j + 1)]\n",
    "        #Y_batch = Y_batch.values.reshape(Y_batch.shape[0], 1)\n",
    "        sess.run([optimizer], {X: X_batch, Y:Y_batch})\n",
    "\n",
    "    \n",
    "def evaluate(X_data, y_data):\n",
    "    num_examples = X_data.shape[0]\n",
    "    n_batches = int(num_examples/batch_size)\n",
    "    \n",
    "    total_loss = 0\n",
    "    total_correct_preds = 0\n",
    "\n",
    "    for i in range(n_batches):\n",
    "        \n",
    "        X_batch = X_data[batch_size * i: batch_size * (i + 1)]\n",
    "        Y_batch = y_data[batch_size * i: batch_size * (i + 1)]\n",
    "        #Y_batch = Y_batch.values.reshape(Y_batch.shape[0], 1)\n",
    "\n",
    "        loss_batch, accuracy_batch = sess.run([loss, accuracy], {X: X_batch, Y:Y_batch})\n",
    "        total_loss += loss_batch\n",
    "        total_correct_preds += accuracy_batch\n",
    "    \n",
    "    return total_loss, total_correct_preds/num_examples"
   ]
  },
  {
   "cell_type": "code",
   "execution_count": 26,
   "metadata": {},
   "outputs": [
    {
     "name": "stdout",
     "output_type": "stream",
     "text": [
      "Epoch 0: loss=215.574098944664 accuracy=0.7244935543278085\n",
      "Epoch 10: loss=21.583501756191254 accuracy=0.9447513812154696\n",
      "Epoch 20: loss=19.56972160190344 accuracy=0.9502762430939227\n",
      "Epoch 30: loss=18.826012190431356 accuracy=0.9528545119705341\n",
      "Epoch 40: loss=18.5679832957685 accuracy=0.9539594843462247\n",
      "Epoch 50: loss=18.474485151469707 accuracy=0.9535911602209944\n",
      "Epoch 60: loss=18.436928529292345 accuracy=0.9535911602209944\n",
      "Epoch 70: loss=18.42042487114668 accuracy=0.9535911602209944\n",
      "Epoch 80: loss=18.412731923162937 accuracy=0.9535911602209944\n",
      "Epoch 90: loss=18.408993404358625 accuracy=0.9535911602209944\n"
     ]
    }
   ],
   "source": [
    "with tf.Session() as sess:\n",
    "    sess.run(tf.global_variables_initializer())    \n",
    "    \n",
    "    history = TrainingHistory()\n",
    "\n",
    "    for i in range(n_epochs): \n",
    "        fit_epoch(X_train, y_train_onehot)\n",
    "\n",
    "        train_loss, train_accuracy = evaluate(X_train, y_train_onehot)\n",
    "        test_loss, test_accuracy = evaluate(X_test, y_test_onehot)\n",
    "\n",
    "        history.train_loss_list.append(train_loss)\n",
    "        history.train_metric_list.append(train_accuracy)\n",
    "        history.test_loss_list.append(test_loss)\n",
    "        history.test_metric_list.append(test_accuracy)\n",
    "\n",
    "        if i % 10 == 0:\n",
    "            print('Epoch {0}: loss={1} accuracy={2}'.format(i, train_loss, train_accuracy))"
   ]
  },
  {
   "cell_type": "code",
   "execution_count": 27,
   "metadata": {},
   "outputs": [
    {
     "name": "stdout",
     "output_type": "stream",
     "text": [
      "Accuracy: train=0.9536, test=0.9547\n",
      "Loss: train=18.4072, test=6.3635\n"
     ]
    },
    {
     "data": {
      "image/png": "[encoded data removed]",
      "text/plain": [
       "<Figure size 864x288 with 2 Axes>"
      ]
     },
     "metadata": {},
     "output_type": "display_data"
    }
   ],
   "source": [
    "history.print_scores()\n",
    "history.plot()\n",
    "plt.show()"
   ]
  },
  {
   "cell_type": "markdown",
   "metadata": {},
   "source": [
    "## Keras model for Thyroid dataset"
   ]
  },
  {
   "cell_type": "code",
   "execution_count": 28,
   "metadata": {},
   "outputs": [
    {
     "name": "stdout",
     "output_type": "stream",
     "text": [
      "Epoch 10: loss=0.4618397047177204 categorical_accuracy=0.9440\n",
      "Epoch 20: loss=0.3764097401340583 categorical_accuracy=0.9466\n",
      "Epoch 30: loss=0.3506357973890849 categorical_accuracy=0.9488\n",
      "Epoch 40: loss=0.3372403553946023 categorical_accuracy=0.9506\n",
      "Epoch 50: loss=0.3284057642214865 categorical_accuracy=0.9529\n",
      "Epoch 60: loss=0.321112976219114 categorical_accuracy=0.9551\n",
      "Epoch 70: loss=0.31410916876836814 categorical_accuracy=0.9584\n",
      "Epoch 80: loss=0.30790871691857474 categorical_accuracy=0.9602\n",
      "Epoch 90: loss=0.30288933631903997 categorical_accuracy=0.9624\n",
      "Epoch 100: loss=0.29895941367026413 categorical_accuracy=0.9628\n",
      "\n",
      "Train Loss = 0.30\n",
      "Train Accuracy = 0.96\n",
      "\n",
      "Test Loss = 0.31\n",
      "Test Accuracy = 0.96\n"
     ]
    }
   ],
   "source": [
    "from keras import backend as K; K.clear_session() # TODO: fix this\n",
    "tf.reset_default_graph()\n",
    "\n",
    "adam = keras.optimizers.Adam()\n",
    "\n",
    "model = Sequential()\n",
    "model.add(Dense(num_classes, input_dim=X_train.shape[1], activation='softmax', activity_regularizer=l2(0.01)))\n",
    "model.compile(loss='categorical_crossentropy', metrics=['categorical_accuracy'], optimizer=adam)\n",
    "\n",
    "history = TrainingHistory(metric='categorical_accuracy', metric_name='Accuracy')\n",
    "\n",
    "model.fit(\n",
    "    X_train, y_train_onehot, epochs=100, batch_size=batch_size, verbose=0,\n",
    "    validation_data=(X_test, y_test_onehot),\n",
    "    callbacks=[history], initial_epoch=len(history.train_loss_list)\n",
    ")\n",
    "\n",
    "score, accuracy = model.evaluate(X_train, y_train_onehot, batch_size=batch_size, verbose=0)\n",
    "print(\"\\nTrain Loss = {:.2f}\".format(score))\n",
    "print(\"Train Accuracy = {:.2f}\".format(accuracy))\n",
    "\n",
    "score, accuracy = model.evaluate(X_test, y_test_onehot, batch_size=batch_size, verbose=0)\n",
    "print(\"\\nTest Loss = {:.2f}\".format(score))\n",
    "print(\"Test Accuracy = {:.2f}\".format(accuracy))"
   ]
  },
  {
   "cell_type": "code",
   "execution_count": 29,
   "metadata": {},
   "outputs": [
    {
     "name": "stdout",
     "output_type": "stream",
     "text": [
      "Accuracy: train=0.9628, test=0.9613\n",
      "Loss: train=0.2990, test=0.3099\n"
     ]
    },
    {
     "data": {
      "image/png": "[encoded data removed]",
      "text/plain": [
       "<Figure size 864x288 with 2 Axes>"
      ]
     },
     "metadata": {},
     "output_type": "display_data"
    }
   ],
   "source": [
    "history.print_scores()\n",
    "history.plot()\n",
    "plt.show()"
   ]
  },
  {
   "cell_type": "markdown",
   "metadata": {},
   "source": [
    "# Boston houses"
   ]
  },
  {
   "cell_type": "markdown",
   "metadata": {},
   "source": [
    "## Preprocessing\n",
    "\n",
    "Here we apply scaling and split the data into train/test set."
   ]
  },
  {
   "cell_type": "code",
   "execution_count": 30,
   "metadata": {},
   "outputs": [],
   "source": [
    "from sklearn.datasets import load_boston\n",
    "boston = load_boston()\n",
    "\n",
    "X_train, X_test, y_train, y_test = train_test_split(\n",
    "    pd.DataFrame(boston['data'], columns=boston['feature_names']),\n",
    "    boston['target']\n",
    ")\n",
    "scaler = StandardScaler()\n",
    "\n",
    "X_train = scaler.fit_transform(X_train)\n",
    "X_test = scaler.transform(X_test)"
   ]
  },
  {
   "cell_type": "markdown",
   "metadata": {},
   "source": [
    "## Keras regression model for Boston houses\n",
    "\n",
    "Differences from classification neural networks:\n",
    "- linear output activation\n",
    "- mean squared error as loss function\n",
    "- R2-score was chosen as metric"
   ]
  },
  {
   "cell_type": "code",
   "execution_count": 36,
   "metadata": {},
   "outputs": [
    {
     "name": "stdout",
     "output_type": "stream",
     "text": [
      "Epoch 10: loss=38.5599610170148 r2=0.2686\n",
      "Epoch 20: loss=33.442525549111075 r2=0.3929\n",
      "Epoch 30: loss=22.764345488636348 r2=0.5903\n",
      "Epoch 40: loss=25.758898261983664 r2=0.5190\n",
      "Epoch 50: loss=21.663766936450646 r2=0.6257\n",
      "Epoch 60: loss=21.512211472503743 r2=0.6002\n",
      "Epoch 70: loss=22.230478520758233 r2=0.5797\n",
      "Epoch 80: loss=21.534122507301674 r2=0.6274\n",
      "Epoch 90: loss=17.49557509082603 r2=0.7010\n",
      "Epoch 100: loss=16.563648824012375 r2=0.6667\n",
      "Epoch 110: loss=17.8668845083594 r2=0.6944\n",
      "Epoch 120: loss=17.86139146885331 r2=0.6783\n",
      "Epoch 130: loss=14.568876270253929 r2=0.7203\n",
      "Epoch 140: loss=14.572056990500176 r2=0.7506\n",
      "Epoch 150: loss=13.97302929266776 r2=0.7537\n",
      "Epoch 160: loss=15.792144630703888 r2=0.7258\n",
      "Epoch 170: loss=13.485615010626399 r2=0.7798\n",
      "Epoch 180: loss=14.197553468568344 r2=0.7931\n",
      "Epoch 190: loss=16.067052473808026 r2=0.7241\n",
      "Epoch 200: loss=12.483591761626794 r2=0.7524\n",
      "\n",
      "R2-score: train=0.7524, test=0.7388\n",
      "Loss: train=12.4836, test=12.1950\n"
     ]
    },
    {
     "data": {
      "image/png": "[encoded data removed]",
      "text/plain": [
       "<Figure size 864x288 with 2 Axes>"
      ]
     },
     "metadata": {},
     "output_type": "display_data"
    }
   ],
   "source": [
    "from keras import backend as K; K.clear_session()\n",
    "tf.reset_default_graph()\n",
    "\n",
    "adam = keras.optimizers.Adam()\n",
    "\n",
    "from keras import backend as K\n",
    "\n",
    "def r2(y_true, y_pred):\n",
    "    \"\"\" R2 metric for regression. \"\"\"\n",
    "    SS_res =  K.sum(K.square(y_true - y_pred)) \n",
    "    SS_tot = K.sum(K.square(y_true - K.mean(y_true))) \n",
    "    return ( 1 - SS_res/(SS_tot + K.epsilon()) )\n",
    "\n",
    "model = Sequential()\n",
    "model.add(Dense(40, input_dim=X_train.shape[1], activation='relu'))\n",
    "model.add(Dropout(0.2))\n",
    "model.add(Dense(40, activation='relu'))\n",
    "model.add(Dropout(0.2))\n",
    "model.add(Dense(40, activation='relu'))\n",
    "model.add(Dropout(0.2))\n",
    "model.add(Dense(1, activation='linear'))\n",
    "model.compile(loss='mean_squared_error', metrics=[r2], optimizer=adam)\n",
    "\n",
    "history = TrainingHistory(metric='r2', metric_name='R2-score')\n",
    "\n",
    "model.fit(\n",
    "    X_train, y_train, epochs=200, batch_size=10, verbose=0,\n",
    "    validation_data=(X_test, y_test),\n",
    "    callbacks=[history], initial_epoch=len(history.train_loss_list)\n",
    ")\n",
    "\n",
    "print()\n",
    "history.print_scores()\n",
    "history.plot()\n",
    "plt.show()"
   ]
  },
  {
   "cell_type": "markdown",
   "metadata": {},
   "source": [
    "# The end."
   ]
  },
  {
   "cell_type": "code",
   "execution_count": null,
   "metadata": {},
   "outputs": [],
   "source": []
  }
 ],
 "metadata": {
  "kernelspec": {
   "display_name": "Python 3",
   "language": "python",
   "name": "python3"
  },
  "language_info": {
   "codemirror_mode": {
    "name": "ipython",
    "version": 3
   },
   "file_extension": ".py",
   "mimetype": "text/x-python",
   "name": "python",
   "nbconvert_exporter": "python",
   "pygments_lexer": "ipython3",
   "version": "3.6.3"
  },
  "toc": {
   "base_numbering": 1,
   "nav_menu": {},
   "number_sections": true,
   "sideBar": true,
   "skip_h1_title": false,
   "title_cell": "Table of Contents",
   "title_sidebar": "Contents",
   "toc_cell": false,
   "toc_position": {},
   "toc_section_display": true,
   "toc_window_display": true
  }
 },
 "nbformat": 4,
 "nbformat_minor": 2
}
