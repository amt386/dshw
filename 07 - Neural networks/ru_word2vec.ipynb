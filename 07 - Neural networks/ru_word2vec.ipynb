{
 "cells": [
  {
   "cell_type": "raw",
   "metadata": {},
   "source": [
    "pip install pymystem3\n",
    "pip install gensim"
   ]
  },
  {
   "cell_type": "code",
   "execution_count": null,
   "metadata": {},
   "outputs": [],
   "source": [
    "# https://github.com/akutuzov/webvectors/blob/master/preprocessing/rus_preprocessing_mystem.py\n",
    "# https://github.com/akutuzov/webvectors/blob/master/preprocessing/rusvectores_tutorial.ipynb"
   ]
  },
  {
   "cell_type": "code",
   "execution_count": 1,
   "metadata": {},
   "outputs": [],
   "source": [
    "import sys\n",
    "import requests\n",
    "\n",
    "import gensim\n",
    "from pymystem3 import Mystem"
   ]
  },
  {
   "cell_type": "markdown",
   "metadata": {},
   "source": [
    "# Preprocessing"
   ]
  },
  {
   "cell_type": "code",
   "execution_count": 6,
   "metadata": {},
   "outputs": [],
   "source": [
    "mapping_url = 'https://raw.githubusercontent.com/akutuzov/universal-pos-tags/4653e8a9154e93fe2f417c7fdb7a357b7d6ce333/ru-rnc.map'\n",
    "\n",
    "mystem2upos = {}\n",
    "r = requests.get(mapping_url, stream=True)\n",
    "for pair in r.text.split('\\n'):\n",
    "    pair = pair.split()\n",
    "    if len(pair) > 1:\n",
    "        mystem2upos[pair[0]] = pair[1]\n",
    "\n",
    "class Preprocessor:\n",
    "    def __init__(self, mapping):\n",
    "        self.m = Mystem()\n",
    "        self.mapping = mapping\n",
    "        \n",
    "    def process(self, text, postags=True):\n",
    "        processed = self.m.analyze(text)\n",
    "        tagged = []\n",
    "        for w in processed:\n",
    "            try:\n",
    "                lemma = w[\"analysis\"][0][\"lex\"].lower().strip()\n",
    "                pos = w[\"analysis\"][0][\"gr\"].split(',')[0]\n",
    "                pos = pos.split('=')[0].strip()\n",
    "                pos = self.mapping.get(pos, 'X')\n",
    "                tagged.append(lemma.lower() + '_' + pos)\n",
    "            except KeyError:\n",
    "                continue\n",
    "        if not postags:\n",
    "            tagged = [t.split('_')[0] for t in tagged]\n",
    "        return tagged\n",
    "\n",
    "phrases_processor = Preprocessor(mystem2upos)"
   ]
  },
  {
   "cell_type": "code",
   "execution_count": null,
   "metadata": {},
   "outputs": [],
   "source": []
  },
  {
   "cell_type": "code",
   "execution_count": null,
   "metadata": {},
   "outputs": [],
   "source": []
  },
  {
   "cell_type": "code",
   "execution_count": 9,
   "metadata": {},
   "outputs": [
    {
     "data": {
      "text/plain": [
       "['купить',\n",
       " 'для',\n",
       " 'магнитола',\n",
       " 'в',\n",
       " 'машина',\n",
       " 'пользоваться',\n",
       " 'уже',\n",
       " 'ю',\n",
       " 'неделя',\n",
       " 'никакой',\n",
       " 'нарекание',\n",
       " 'нет',\n",
       " 'не',\n",
       " 'тормозить',\n",
       " 'при',\n",
       " 'подключение',\n",
       " 'к',\n",
       " 'магнитола',\n",
       " 'компьютер',\n",
       " 'начинать',\n",
       " 'работать',\n",
       " 'сразу',\n",
       " 'же',\n",
       " 'и',\n",
       " 'без',\n",
       " 'задержка',\n",
       " 'в',\n",
       " 'общий',\n",
       " 'весь',\n",
       " 'в',\n",
       " 'порядок',\n",
       " 'работать',\n",
       " 'как',\n",
       " 'часы']"
      ]
     },
     "execution_count": 9,
     "metadata": {},
     "output_type": "execute_result"
    }
   ],
   "source": [
    "phrases_processor.process(',\"Купил для магнитолы в машину, пользуюсь уже 3-ю неделю, никаких нареканий нет, не тормозит, при подключении к магнитоле/компьютеру начинает работать сразу же и без задержек. В общем все в порядке, работает как часы.\"', postags=False)"
   ]
  },
  {
   "cell_type": "markdown",
   "metadata": {},
   "source": [
    "# Word2Vec model"
   ]
  },
  {
   "cell_type": "code",
   "execution_count": 6,
   "metadata": {},
   "outputs": [],
   "source": [
    "# You can download pretrained model from http://rusvectores.org/ru/models/\n",
    "\n",
    "model_path = '/mnt/disk/datasets/word2vec_ru/ruwikiruscorpora-nobigrams_upos_skipgram_300_5_2018.vec.gz'\n",
    "model = gensim.models.KeyedVectors.load_word2vec_format(model_path, binary=False)"
   ]
  },
  {
   "cell_type": "code",
   "execution_count": 26,
   "metadata": {
    "scrolled": true
   },
   "outputs": [
    {
     "data": {
      "text/plain": [
       "[('уплатить_VERB', 0.7811346650123596),\n",
       " ('доплачивать_VERB', 0.7447771430015564),\n",
       " ('выплачивать_VERB', 0.7416616082191467),\n",
       " ('уплачивать_VERB', 0.736369252204895),\n",
       " ('оплачивать_VERB', 0.7315130829811096),\n",
       " ('заплатить_VERB', 0.7277652025222778),\n",
       " ('приплачивать_VERB', 0.6747636795043945),\n",
       " ('задолжать_VERB', 0.664445698261261),\n",
       " ('расплачиваться_VERB', 0.6592860221862793),\n",
       " ('плащать_VERB', 0.654596209526062)]"
      ]
     },
     "execution_count": 26,
     "metadata": {},
     "output_type": "execute_result"
    }
   ],
   "source": [
    "model.most_similar('платить_VERB')"
   ]
  },
  {
   "cell_type": "code",
   "execution_count": 35,
   "metadata": {},
   "outputs": [
    {
     "data": {
      "text/plain": [
       "(300,)"
      ]
     },
     "execution_count": 35,
     "metadata": {},
     "output_type": "execute_result"
    }
   ],
   "source": [
    "word_vector = model['платить_VERB']\n",
    "word_vector.shape"
   ]
  }
 ],
 "metadata": {
  "kernelspec": {
   "display_name": "Python 3",
   "language": "python",
   "name": "python3"
  },
  "language_info": {
   "codemirror_mode": {
    "name": "ipython",
    "version": 3
   },
   "file_extension": ".py",
   "mimetype": "text/x-python",
   "name": "python",
   "nbconvert_exporter": "python",
   "pygments_lexer": "ipython3",
   "version": "3.6.3"
  },
  "toc": {
   "base_numbering": 1,
   "nav_menu": {},
   "number_sections": true,
   "sideBar": true,
   "skip_h1_title": false,
   "title_cell": "Table of Contents",
   "title_sidebar": "Contents",
   "toc_cell": false,
   "toc_position": {},
   "toc_section_display": true,
   "toc_window_display": false
  }
 },
 "nbformat": 4,
 "nbformat_minor": 2
}
