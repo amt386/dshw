{
 "cells": [
  {
   "cell_type": "markdown",
   "metadata": {},
   "source": [
    "# Classification II –   Homework\n",
    "\n",
    "**Overview**\n",
    "- [Large Movie Review Dataset](http://ai.stanford.edu/~amaas/data/sentiment/)\n",
    "- Target –   pos/neg folders\n",
    "\n",
    "**Evaluation Criteria** (max score - 8):\n",
    "* Text preprocessing - 3\n",
    "    – Removing stop words\n",
    "    - Stemming / Lemmatization\n",
    "    - Bag of words / TF-IDF\n",
    "    - N-grams\n",
    "* Words importance - 2\n",
    "* Hyperparameters tuning – 1\n",
    "* Compare performance of models: SGDClassifier; SVM; Naive Bayes - 2\n",
    "* Metric: AUC-ROC\n",
    "* Libraries: scikit‑learn  + NLTK"
   ]
  },
  {
   "cell_type": "markdown",
   "metadata": {},
   "source": [
    "TODO:\n",
    "- is TF-IDF a good thing here (place high value to movie-specific words)\n",
    "- how to output probabilities for SVM or NB? (do we need to care about NB calibrating for NB?)\n",
    "\n",
    "Room for improvement:\n",
    "- account for negation (not, don't, etc) instead on relying solely on something like 'absolutely amazing' or 'completely sucks'\n",
    "- advanced stemming/lemmatization (e.g. define noun/verb/adj based on context - spacy)\n",
    "- resplit into train/test sets"
   ]
  },
  {
   "cell_type": "code",
   "execution_count": 1,
   "metadata": {},
   "outputs": [],
   "source": [
    "import os\n",
    "import warnings\n",
    "\n",
    "import matplotlib.pyplot as plt\n",
    "import numpy as np\n",
    "import pandas as pd\n",
    "import seaborn as sns\n",
    "\n",
    "import nltk\n",
    "from nltk.corpus import stopwords\n",
    "from nltk.tokenize import word_tokenize \n",
    "from nltk.stem.snowball import EnglishStemmer\n",
    "from nltk.stem import WordNetLemmatizer\n",
    "from nltk.tokenize import RegexpTokenizer\n",
    "\n",
    "from sklearn.pipeline import Pipeline\n",
    "from sklearn.naive_bayes import MultinomialNB\n",
    "from sklearn.calibration import CalibratedClassifierCV\n",
    "from sklearn.linear_model import SGDClassifier\n",
    "from sklearn.svm import LinearSVC, SVC\n",
    "from sklearn.metrics import roc_curve, roc_auc_score, auc, accuracy_score\n",
    "from sklearn.feature_extraction.text import CountVectorizer, TfidfTransformer\n",
    "\n",
    "from sklearn.model_selection import GridSearchCV\n",
    "\n",
    "from sklearn.preprocessing import Normalizer\n",
    "\n",
    "from bs4 import BeautifulSoup\n",
    "\n",
    "warnings.filterwarnings(\"ignore\")\n",
    "sns.set()\n",
    "%matplotlib inline"
   ]
  },
  {
   "cell_type": "markdown",
   "metadata": {},
   "source": [
    "dfdfd"
   ]
  },
  {
   "cell_type": "code",
   "execution_count": 2,
   "metadata": {},
   "outputs": [
    {
     "name": "stdout",
     "output_type": "stream",
     "text": [
      "Train set size:  25000\n",
      "Test set size:  25000\n"
     ]
    }
   ],
   "source": [
    "DATASET_DIR = 'D:/datasets/aclImdb'\n",
    "\n",
    "def load_data(dir_name):\n",
    "    X, y = [], []\n",
    "    for sub_dir, target in (('pos', 1), ('neg', 0)):\n",
    "        files = os.listdir(os.path.join(dir_name, sub_dir))\n",
    "        X += [open(os.path.join(dir_name, sub_dir, fname),\n",
    "                   encoding=\"utf-8\"\n",
    "                  ).read() for fname in files]\n",
    "        y += [target] * len(files)\n",
    "    return X, y\n",
    "\n",
    "txt_train, y_train = load_data(os.path.join(DATASET_DIR, 'train'))\n",
    "txt_test, y_test = load_data(os.path.join(DATASET_DIR, 'test'))\n",
    "\n",
    "print('Train set size: ', len(txt_train))\n",
    "print('Test set size: ', len(txt_test))"
   ]
  },
  {
   "cell_type": "markdown",
   "metadata": {},
   "source": [
    "dfdfdf"
   ]
  },
  {
   "cell_type": "code",
   "execution_count": 3,
   "metadata": {},
   "outputs": [],
   "source": [
    "stop_words = stopwords.words('english') + ['movie', 'film']\n",
    "tokenizer = RegexpTokenizer(r\"(?u)\\b[^\\W\\d][^\\W\\d]+\\b\")\n",
    "stemmer = EnglishStemmer()\n",
    "lemmer = WordNetLemmatizer()\n",
    "\n",
    "def preprocessor(text):\n",
    "    return BeautifulSoup(text).get_text().lower()\n",
    "\n",
    "def stemmed_words(doc):\n",
    "    return [\n",
    "        stemmer.stem(word)\n",
    "        for word in tokenizer.tokenize(doc)\n",
    "        if word not in stop_words\n",
    "    ]\n",
    "\n",
    "def lemmed_words(doc):\n",
    "    return [\n",
    "        lemmer.lemmatize(word)\n",
    "        for word in tokenizer.tokenize(doc)\n",
    "        if word not in stop_words\n",
    "    ]"
   ]
  },
  {
   "cell_type": "code",
   "execution_count": 4,
   "metadata": {},
   "outputs": [],
   "source": [
    "def show_scores(model, X_train, X_test, y_train, y_test):\n",
    "    y_train_scores = model.predict_proba(X_train)[:,1]\n",
    "    y_test_scores = model.predict_proba(X_test)[:,1]\n",
    "    y_train_pred = y_train_scores >= 0.5\n",
    "    y_test_pred = y_test_scores >= 0.5\n",
    "    print(\"Train set: ROCAUC = {0:.6f}, accuracy = {1:.6f}\".format(\n",
    "        roc_auc_score(y_train, y_train_scores), accuracy_score(y_train, y_train_pred)\n",
    "    ))\n",
    "    print(\"Test set: ROCAUC = {0:.6f}, accuracy = {1:.6f}\".format(\n",
    "        roc_auc_score(y_test, y_test_scores), accuracy_score(y_test, y_test_pred)\n",
    "    ))"
   ]
  },
  {
   "cell_type": "code",
   "execution_count": 5,
   "metadata": {},
   "outputs": [],
   "source": [
    "def print_feature_summary(vectorizer, txt_array):\n",
    "    feature_names = np.array(vectorizer.get_feature_names())\n",
    "    X = vectorizer.transform(txt_array)\n",
    "    sums = np.array(X.sum(axis=0))[0]\n",
    "    sorted_idx = sums.argsort()\n",
    "\n",
    "    print('Total features:', len(feature_names))\n",
    "    print(\"First 20 features:\\n{}\".format(feature_names[:20]))\n",
    "    print(\"Features with highest count: \\n{}\".format(\n",
    "        feature_names[sorted_idx[-20:]]))\n",
    "    print(\"Features with lowest count:\\n{}\".format(\n",
    "        feature_names[sorted_idx[:20]]))"
   ]
  },
  {
   "cell_type": "markdown",
   "metadata": {},
   "source": [
    "dfdf"
   ]
  },
  {
   "cell_type": "code",
   "execution_count": 6,
   "metadata": {},
   "outputs": [],
   "source": [
    "models = {}"
   ]
  },
  {
   "cell_type": "markdown",
   "metadata": {},
   "source": [
    "### Baseline model"
   ]
  },
  {
   "cell_type": "code",
   "execution_count": 7,
   "metadata": {},
   "outputs": [
    {
     "name": "stdout",
     "output_type": "stream",
     "text": [
      "Train set: ROCAUC = 0.962615, accuracy = 0.898040\n",
      "Test set: ROCAUC = 0.891960, accuracy = 0.814320\n"
     ]
    }
   ],
   "source": [
    "pipe = Pipeline(steps=[\n",
    "    ('bag', CountVectorizer(preprocessor=preprocessor)),\n",
    "    ('nb', MultinomialNB())\n",
    "])\n",
    "pipe.fit(txt_train, y_train)\n",
    "show_scores(pipe, txt_train, txt_test, y_train, y_test)\n",
    "models['Naive Bayes (baseline)'] = pipe"
   ]
  },
  {
   "cell_type": "code",
   "execution_count": null,
   "metadata": {},
   "outputs": [],
   "source": []
  },
  {
   "cell_type": "code",
   "execution_count": null,
   "metadata": {},
   "outputs": [],
   "source": [
    "\n",
    "\n",
    "\n",
    "\n"
   ]
  },
  {
   "cell_type": "code",
   "execution_count": 8,
   "metadata": {},
   "outputs": [
    {
     "name": "stdout",
     "output_type": "stream",
     "text": [
      "Total features: 75903\n",
      "First 20 features:\n",
      "['00' '000' '0000000000001' '00001' '00015' '000s' '001' '003830' '006'\n",
      " '007' '0079' '0080' '0083' '0093638' '00am' '00pm' '00s' '01' '01pm' '02']\n",
      "Features with highest count: \n",
      "['he' 'not' 'on' 'you' 'film' 'but' 'movie' 'with' 'for' 'as' 'was' 'that'\n",
      " 'this' 'in' 'it' 'is' 'to' 'of' 'and' 'the']\n",
      "Features with lowest count:\n",
      "['labours' 'lilienthal' 'lilililililii' 'lilleheie' 'lillete' 'lilley'\n",
      " 'lillihamer' 'liman' 'likings' 'limbless' 'limitlessly' 'limned' 'limos'\n",
      " 'limpest' 'limpid' 'linage' 'linch' 'limburger' 'linchpin' 'likeminded']\n"
     ]
    }
   ],
   "source": [
    "print_feature_summary(pipe.named_steps['bag'], txt_train)"
   ]
  },
  {
   "cell_type": "markdown",
   "metadata": {},
   "source": [
    "### Vectorization tuning\n",
    "\n",
    "setting min_df manually"
   ]
  },
  {
   "cell_type": "code",
   "execution_count": 20,
   "metadata": {},
   "outputs": [
    {
     "name": "stdout",
     "output_type": "stream",
     "text": [
      "Train set: ROCAUC = 0.935962, accuracy = 0.872240\n",
      "Test set: ROCAUC = 0.918698, accuracy = 0.852040\n",
      "Best parameters: {'bag__ngram_range': (1, 2), 'bag__tokenizer': <function lemmed_words at 0x000001F36936C620>}\n"
     ]
    }
   ],
   "source": [
    "pipe = Pipeline(steps=[\n",
    "    ('bag', CountVectorizer(preprocessor=preprocessor, min_df=50)),\n",
    "    ('nb', MultinomialNB())\n",
    "])\n",
    "params = {\n",
    "    'bag__tokenizer': [stemmed_words, lemmed_words],\n",
    "    'bag__ngram_range': [(1, 1), (1, 2)],\n",
    "}\n",
    "grid = GridSearchCV(pipe, params, cv=2, scoring='roc_auc', n_jobs=7)\n",
    "grid.fit(txt_train, y_train)\n",
    "\n",
    "show_scores(grid, txt_train, txt_test, y_train, y_test)\n",
    "print(\"Best parameters:\", grid.best_params_)"
   ]
  },
  {
   "cell_type": "code",
   "execution_count": 21,
   "metadata": {},
   "outputs": [
    {
     "name": "stdout",
     "output_type": "stream",
     "text": [
      "Total features: 7594\n",
      "First 20 features:\n",
      "['abandon' 'abandoned' 'abc' 'ability' 'able' 'able get' 'able see'\n",
      " 'abound' 'abraham' 'abrupt' 'abruptly' 'absence' 'absent' 'absolute'\n",
      " 'absolutely' 'absolutely loved' 'absolutely nothing' 'absorbed'\n",
      " 'absorbing' 'absurd']\n",
      "Features with highest count: \n",
      "['first' 'great' 'also' 'bad' 'people' 'much' 'scene' 'well' 'really'\n",
      " 'see' 'make' 'would' 'get' 'even' 'story' 'character' 'good' 'time'\n",
      " 'like' 'one']\n",
      "Features with lowest count:\n",
      "['realistically' 'another woman' 'much love' 'intensely' 'man woman'\n",
      " 'think really' 'thought great' 'almost everything' 'character play'\n",
      " 'rambling' 'find hard' 'way end' 'one woman' 'order get' 'last one'\n",
      " 'possibly worst' 'u believe' 'plodding' 'kept thinking' 'people one']\n"
     ]
    }
   ],
   "source": [
    "print_feature_summary(grid.best_estimator_.named_steps['bag'], txt_train)"
   ]
  },
  {
   "cell_type": "code",
   "execution_count": 11,
   "metadata": {},
   "outputs": [],
   "source": [
    "vectorizer_kwargs = {\n",
    "    'preprocessor': preprocessor,\n",
    "    'tokenizer': lemmed_words,\n",
    "    'min_df': 50,\n",
    "    'ngram_range': (1, 2),\n",
    "}"
   ]
  },
  {
   "cell_type": "markdown",
   "metadata": {},
   "source": [
    "### Naive Bayes\n",
    "\n",
    "We're not using TF-IDF (distribution is not gaussian)\n",
    "\n",
    "No scaling needed.\n",
    "Calibrating? Why no smoothing works best?"
   ]
  },
  {
   "cell_type": "code",
   "execution_count": 12,
   "metadata": {},
   "outputs": [
    {
     "name": "stdout",
     "output_type": "stream",
     "text": [
      "Train set: ROCAUC = 0.935962, accuracy = 0.872240\n",
      "Test set: ROCAUC = 0.918698, accuracy = 0.852040\n",
      "Best parameters: {'nb__alpha': 1}\n"
     ]
    }
   ],
   "source": [
    "pipe = Pipeline(steps=[\n",
    "    ('bag', CountVectorizer(**vectorizer_kwargs)),\n",
    "    ('nb', MultinomialNB()),\n",
    "])\n",
    "params = {\n",
    "    'nb__alpha': [0, 1],\n",
    "}\n",
    "grid = GridSearchCV(pipe, params, cv=4, scoring='roc_auc', n_jobs=7)\n",
    "grid.fit(txt_train, y_train)\n",
    "models['Naive Bayes'] = grid.best_estimator_\n",
    "\n",
    "show_scores(grid, txt_train, txt_test, y_train, y_test)\n",
    "print(\"Best parameters:\", grid.best_params_)"
   ]
  },
  {
   "cell_type": "code",
   "execution_count": 13,
   "metadata": {},
   "outputs": [
    {
     "name": "stdout",
     "output_type": "stream",
     "text": [
      "Top positive features:\n",
      " ['excellently', 'still great', 'delightfully', 'favorite movie', 'perfectly cast', 'walter matthau', 'absolutely loved', 'acting superb', 'best role', 'excellent job', 'wonderful performance', 'deliciously', 'ensemble cast', 'expertly', 'favorite character', 'heart warming', 'thoroughly enjoyed', 'another great', 'english subtitle', 'enjoyed much'] \n",
      "\n",
      "Top negative features:\n",
      " ['acting horrible', 'avoid like', 'acting awful', 'badly written', 'boll', 'even worth', 'possibly worst', 'skip one', 'total waste', 'uwe', 'uwe boll', 'worst acting', 'worst film', 'avoid cost', 'poorly made', 'seen bad', 'acting poor', 'complete waste', 'dreck', 'far worst']\n"
     ]
    }
   ],
   "source": [
    "def show_bayes_word_importance(model):\n",
    "    feature_names = model.named_steps['bag'].get_feature_names()\n",
    "    pos_feats = zip(model.named_steps['nb'].feature_log_prob_[0], feature_names)\n",
    "    neg_feats = zip(model.named_steps['nb'].feature_log_prob_[1], feature_names)\n",
    "    pos_feats_sorted = [x[1] for x in sorted(pos_feats, key=lambda x: x[0])]\n",
    "    neg_feats_sorted = [x[1] for x in sorted(neg_feats, key=lambda x: x[0])]\n",
    "    print('Top positive features:\\n', pos_feats_sorted[:20], '\\n')\n",
    "    print('Top negative features:\\n', neg_feats_sorted[:20])\n",
    "    \n",
    "show_bayes_word_importance(models['Naive Bayes'])"
   ]
  },
  {
   "cell_type": "markdown",
   "metadata": {},
   "source": [
    "Hilarious!"
   ]
  },
  {
   "cell_type": "markdown",
   "metadata": {},
   "source": [
    "### SGD (logistic regression, L2-regularization)\n",
    "\n",
    "WTF: no probabilities available for hinge loss"
   ]
  },
  {
   "cell_type": "code",
   "execution_count": 14,
   "metadata": {},
   "outputs": [
    {
     "name": "stdout",
     "output_type": "stream",
     "text": [
      "Train set: ROCAUC = 0.957025, accuracy = 0.894040\n",
      "Test set: ROCAUC = 0.942232, accuracy = 0.872960\n",
      "Best parameters: {'lin__alpha': 0.01}\n"
     ]
    }
   ],
   "source": [
    "pipe = Pipeline(steps=[\n",
    "    ('bag', CountVectorizer(**vectorizer_kwargs)),\n",
    "    ('lin', SGDClassifier(loss='log', penalty='l2')),\n",
    "])\n",
    "params = {\n",
    "    'lin__alpha': [1e-4, 1e-3, 1e-2],\n",
    "}\n",
    "grid = GridSearchCV(pipe, params, cv=4, scoring='roc_auc', n_jobs=7)\n",
    "grid.fit(txt_train, y_train)\n",
    "models['SGD Logistic regression'] = grid.best_estimator_\n",
    "\n",
    "show_scores(grid, txt_train, txt_test, y_train, y_test)\n",
    "print(\"Best parameters:\", grid.best_params_)"
   ]
  },
  {
   "cell_type": "code",
   "execution_count": 15,
   "metadata": {},
   "outputs": [
    {
     "name": "stdout",
     "output_type": "stream",
     "text": [
      "Top positive features:\n",
      " ['excellent', 'great', 'perfect', 'wonderful', 'favorite', 'amazing', 'loved', 'fun', 'best', 'today', 'brilliant', 'one best', 'enjoyed', 'highly', 'beautiful', 'superb', 'definitely', 'enjoy', 'fantastic', 'love'] \n",
      "\n",
      "Top negative features:\n",
      " ['worst', 'awful', 'waste', 'bad', 'boring', 'poor', 'terrible', 'worse', 'nothing', 'horrible', 'dull', 'unfortunately', 'stupid', 'poorly', 'annoying', 'save', 'supposed', 'waste time', 'instead', 'script']\n"
     ]
    }
   ],
   "source": [
    "def show_linear_word_importance(model):\n",
    "    feature_names = model.named_steps['bag'].get_feature_names()\n",
    "    feats = list(zip(model.named_steps['lin'].coef_[0], feature_names))\n",
    "    pos_feats = [x for x in feats if x[0] > 0]\n",
    "    neg_feats = [x for x in feats if x[0] < 0]\n",
    "    pos_feats_sorted = [x[1] for x in sorted(pos_feats, key=lambda x: x[0], reverse=True)]\n",
    "    neg_feats_sorted = [x[1] for x in sorted(neg_feats, key=lambda x: x[0])]\n",
    "    print('Top positive features:\\n', pos_feats_sorted[:20], '\\n')\n",
    "    print('Top negative features:\\n', neg_feats_sorted[:20])\n",
    "    \n",
    "show_linear_word_importance(models['SGD Logistic regression'])"
   ]
  },
  {
   "cell_type": "markdown",
   "metadata": {},
   "source": [
    "### SGD (TF-IDF, logistic regression, L2-regularization)"
   ]
  },
  {
   "cell_type": "code",
   "execution_count": 16,
   "metadata": {},
   "outputs": [
    {
     "name": "stdout",
     "output_type": "stream",
     "text": [
      "Train set: ROCAUC = 0.967434, accuracy = 0.905200\n",
      "Test set: ROCAUC = 0.951800, accuracy = 0.880760\n",
      "Best parameters: {'lin__alpha': 0.0001}\n"
     ]
    }
   ],
   "source": [
    "pipe = Pipeline(steps=[\n",
    "    ('bag', CountVectorizer(**vectorizer_kwargs)),\n",
    "    ('tfidf', TfidfTransformer()),\n",
    "    ('lin', SGDClassifier(loss='log', penalty='l2')),\n",
    "])\n",
    "params = {\n",
    "    'lin__alpha': [1e-4, 1e-3, 1e-2],\n",
    "}\n",
    "grid = GridSearchCV(pipe, params, cv=4, scoring='roc_auc', n_jobs=7)\n",
    "grid.fit(txt_train, y_train)\n",
    "models['SGD Logistic regression with TF-IDF'] = grid.best_estimator_\n",
    "\n",
    "show_scores(grid, txt_train, txt_test, y_train, y_test)\n",
    "print(\"Best parameters:\", grid.best_params_)"
   ]
  },
  {
   "cell_type": "code",
   "execution_count": 17,
   "metadata": {},
   "outputs": [
    {
     "name": "stdout",
     "output_type": "stream",
     "text": [
      "Top positive features:\n",
      " ['great', 'excellent', 'best', 'wonderful', 'perfect', 'amazing', 'favorite', 'well', 'love', 'loved', 'fun', 'brilliant', 'today', 'enjoyed', 'one best', 'also', 'superb', 'beautiful', 'life', 'highly'] \n",
      "\n",
      "Top negative features:\n",
      " ['worst', 'bad', 'awful', 'waste', 'boring', 'poor', 'nothing', 'terrible', 'worse', 'horrible', 'dull', 'unfortunately', 'even', 'stupid', 'poorly', 'script', 'supposed', 'minute', 'annoying', 'ridiculous']\n"
     ]
    }
   ],
   "source": [
    "show_linear_word_importance(models['SGD Logistic regression with TF-IDF'])"
   ]
  },
  {
   "cell_type": "markdown",
   "metadata": {},
   "source": [
    "### Linear SVM (with TF-IDF)\n",
    "A lot of features, let's stick to linear kernel.\n",
    "No poly - we are already using bigrams.\n",
    "Does not interact properly with pipeline"
   ]
  },
  {
   "cell_type": "code",
   "execution_count": 18,
   "metadata": {},
   "outputs": [
    {
     "name": "stdout",
     "output_type": "stream",
     "text": [
      "Train set: ROCAUC = 0.977135, accuracy = 0.923480\n",
      "Test set: ROCAUC = 0.954535, accuracy = 0.884920\n",
      "Best parameters: {'C': 0.1}\n"
     ]
    }
   ],
   "source": [
    "vect = Pipeline(steps=[\n",
    "    ('bag', CountVectorizer(**vectorizer_kwargs)),\n",
    "    ('tfidf', TfidfTransformer(norm='l2')),\n",
    "])\n",
    "\n",
    "vect.fit(txt_train)\n",
    "X_train = vect.transform(txt_train)\n",
    "X_test = vect.transform(txt_test)\n",
    "\n",
    "params = {\n",
    "    'C': [0.01, 0.1, 1],\n",
    "}\n",
    "grid = GridSearchCV(LinearSVC(), params, cv=2, scoring='roc_auc', n_jobs=7)\n",
    "grid.fit(X_train, y_train)\n",
    "clf = CalibratedClassifierCV(grid.best_estimator_, cv='prefit', method='sigmoid')\n",
    "clf.fit(X_train, y_train)\n",
    "\n",
    "show_scores(clf, X_train, X_test, y_train, y_test)\n",
    "print(\"Best parameters:\", grid.best_params_)\n",
    "\n",
    "models['Linear SVM with TF-IDF'] = clf"
   ]
  },
  {
   "cell_type": "code",
   "execution_count": null,
   "metadata": {},
   "outputs": [],
   "source": []
  },
  {
   "cell_type": "code",
   "execution_count": 19,
   "metadata": {},
   "outputs": [
    {
     "data": {
      "image/png": "[encoded data removed]",
      "text/plain": [
       "<Figure size 576x576 with 1 Axes>"
      ]
     },
     "metadata": {},
     "output_type": "display_data"
    }
   ],
   "source": [
    "def plot_roc_curves(models):\n",
    "    \"\"\" Show ROC curves for all models on a single plot.\"\"\"\n",
    "    plt.figure(figsize = (8, 8))\n",
    "    plt.plot([0, 1], [0, 1], color='navy', lw=1, linestyle='--')\n",
    "    \n",
    "    for name, model in models.items():\n",
    "        \n",
    "        if type(model) is CalibratedClassifierCV:\n",
    "            y_test_scores = model.predict_proba(X_test)[:,1]\n",
    "        else:\n",
    "            y_test_scores = model.predict_proba(txt_test)[:,1]\n",
    "            \n",
    "        y_test_pred = y_test_scores >= 0.5\n",
    "\n",
    "        acc = accuracy_score(y_test, y_test_pred)\n",
    "        fpr, tpr, _ = roc_curve(y_test, y_test_scores)\n",
    "        roc_auc = auc(fpr, tpr)\n",
    "        \n",
    "        label='%s (AUC = %0.4f, accuracy = %0.4f)' %  (name, roc_auc, acc)\n",
    "        plt.plot(fpr, tpr, lw=2, label=label)\n",
    "    plt.xlim([0.0, 1.0])\n",
    "    plt.ylim([0.0, 1.05])\n",
    "    plt.xlabel('False Positive Rate')\n",
    "    plt.ylabel('True Positive Rate')\n",
    "    plt.title('ROC curves (on test set)', fontsize=16, fontweight='bold')\n",
    "    plt.legend(loc=\"lower right\")\n",
    "    plt.show()\n",
    "\n",
    "plot_roc_curves(models)"
   ]
  },
  {
   "cell_type": "code",
   "execution_count": null,
   "metadata": {},
   "outputs": [],
   "source": []
  },
  {
   "cell_type": "code",
   "execution_count": null,
   "metadata": {},
   "outputs": [],
   "source": []
  }
 ],
 "metadata": {
  "kernelspec": {
   "display_name": "Python 3",
   "language": "python",
   "name": "python3"
  },
  "language_info": {
   "codemirror_mode": {
    "name": "ipython",
    "version": 3
   },
   "file_extension": ".py",
   "mimetype": "text/x-python",
   "name": "python",
   "nbconvert_exporter": "python",
   "pygments_lexer": "ipython3",
   "version": "3.6.3"
  },
  "toc": {
   "base_numbering": 1,
   "nav_menu": {},
   "number_sections": true,
   "sideBar": true,
   "skip_h1_title": false,
   "title_cell": "Table of Contents",
   "title_sidebar": "Contents",
   "toc_cell": false,
   "toc_position": {},
   "toc_section_display": true,
   "toc_window_display": false
  }
 },
 "nbformat": 4,
 "nbformat_minor": 2
}
